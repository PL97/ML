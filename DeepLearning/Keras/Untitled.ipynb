{
 "cells": [
  {
   "cell_type": "code",
   "execution_count": 3,
   "metadata": {},
   "outputs": [
    {
     "name": "stderr",
     "output_type": "stream",
     "text": [
      "Using TensorFlow backend.\n"
     ]
    }
   ],
   "source": [
    "import numpy as np\n",
    "from keras.models import Sequential\n",
    "from keras.layers import Dense\n",
    "import loa"
   ]
  },
  {
   "cell_type": "markdown",
   "metadata": {},
   "source": [
    "## load data"
   ]
  },
  {
   "cell_type": "code",
   "execution_count": 11,
   "metadata": {},
   "outputs": [
    {
     "data": {
      "text/plain": [
       "(768, 9)"
      ]
     },
     "execution_count": 11,
     "metadata": {},
     "output_type": "execute_result"
    }
   ],
   "source": [
    "data = np.loadtxt('../../data/pima-indians-diabetes.txt', delimiter = ',')\n",
    "data.shape"
   ]
  },
  {
   "cell_type": "code",
   "execution_count": 18,
   "metadata": {},
   "outputs": [],
   "source": [
    "X = data[:, 0:data.shape[1]-1]\n",
    "Y = data[:, data.shape[1]-1]"
   ]
  },
  {
   "cell_type": "markdown",
   "metadata": {},
   "source": [
    "## define a keras model\n",
    "\n",
    "(three layers with relu as activation function in the middle and sigmoid at the output layer)"
   ]
  },
  {
   "cell_type": "code",
   "execution_count": 23,
   "metadata": {},
   "outputs": [],
   "source": [
    "# define a keras model\n",
    "model = Sequential()\n",
    "model.add(Dense(12, input_dim = 8, activation  = 'relu'))\n",
    "model.add(Dense(8, activation = 'relu'))\n",
    "model.add(Dense(1, activation = 'sigmoid'))"
   ]
  },
  {
   "cell_type": "markdown",
   "metadata": {},
   "source": [
    "## compile model"
   ]
  },
  {
   "cell_type": "code",
   "execution_count": 26,
   "metadata": {},
   "outputs": [],
   "source": [
    "model.compile(loss = 'binary_crossentropy', optimizer = 'adam')"
   ]
  },
  {
   "cell_type": "code",
   "execution_count": 59,
   "metadata": {},
   "outputs": [
    {
     "name": "stdout",
     "output_type": "stream",
     "text": [
      "Epoch 1/200\n",
      "768/768 [==============================] - 0s 37us/step - loss: 0.4841\n",
      "Epoch 2/200\n",
      "768/768 [==============================] - 0s 47us/step - loss: 0.4310\n",
      "Epoch 3/200\n",
      "768/768 [==============================] - 0s 40us/step - loss: 0.4331\n",
      "Epoch 4/200\n",
      "768/768 [==============================] - 0s 23us/step - loss: 0.4467\n",
      "Epoch 5/200\n",
      "768/768 [==============================] - 0s 32us/step - loss: 0.4419\n",
      "Epoch 6/200\n",
      "768/768 [==============================] - 0s 36us/step - loss: 0.4464\n",
      "Epoch 7/200\n",
      "768/768 [==============================] - 0s 29us/step - loss: 0.4467\n",
      "Epoch 8/200\n",
      "768/768 [==============================] - 0s 38us/step - loss: 0.4397\n",
      "Epoch 9/200\n",
      "768/768 [==============================] - 0s 35us/step - loss: 0.4361\n",
      "Epoch 10/200\n",
      "768/768 [==============================] - 0s 30us/step - loss: 0.4392\n",
      "Epoch 11/200\n",
      "768/768 [==============================] - 0s 26us/step - loss: 0.4455\n",
      "Epoch 12/200\n",
      "768/768 [==============================] - 0s 39us/step - loss: 0.4452\n",
      "Epoch 13/200\n",
      "768/768 [==============================] - 0s 38us/step - loss: 0.4347\n",
      "Epoch 14/200\n",
      "768/768 [==============================] - 0s 34us/step - loss: 0.4346\n",
      "Epoch 15/200\n",
      "768/768 [==============================] - 0s 35us/step - loss: 0.4402\n",
      "Epoch 16/200\n",
      "768/768 [==============================] - 0s 38us/step - loss: 0.4338\n",
      "Epoch 17/200\n",
      "768/768 [==============================] - 0s 35us/step - loss: 0.4453\n",
      "Epoch 18/200\n",
      "768/768 [==============================] - 0s 32us/step - loss: 0.4474\n",
      "Epoch 19/200\n",
      "768/768 [==============================] - 0s 39us/step - loss: 0.4530\n",
      "Epoch 20/200\n",
      "768/768 [==============================] - 0s 30us/step - loss: 0.4484\n",
      "Epoch 21/200\n",
      "768/768 [==============================] - 0s 27us/step - loss: 0.4337\n",
      "Epoch 22/200\n",
      "768/768 [==============================] - 0s 34us/step - loss: 0.4417\n",
      "Epoch 23/200\n",
      "768/768 [==============================] - 0s 29us/step - loss: 0.4424\n",
      "Epoch 24/200\n",
      "768/768 [==============================] - 0s 36us/step - loss: 0.4506\n",
      "Epoch 25/200\n",
      "768/768 [==============================] - ETA: 0s - loss: 0.333 - 0s 40us/step - loss: 0.4374\n",
      "Epoch 26/200\n",
      "768/768 [==============================] - 0s 40us/step - loss: 0.4594\n",
      "Epoch 27/200\n",
      "768/768 [==============================] - 0s 30us/step - loss: 0.4356\n",
      "Epoch 28/200\n",
      "768/768 [==============================] - 0s 35us/step - loss: 0.4348\n",
      "Epoch 29/200\n",
      "768/768 [==============================] - 0s 36us/step - loss: 0.4341\n",
      "Epoch 30/200\n",
      "768/768 [==============================] - 0s 38us/step - loss: 0.4505\n",
      "Epoch 31/200\n",
      "768/768 [==============================] - 0s 34us/step - loss: 0.4519\n",
      "Epoch 32/200\n",
      "768/768 [==============================] - 0s 30us/step - loss: 0.4459\n",
      "Epoch 33/200\n",
      "768/768 [==============================] - 0s 27us/step - loss: 0.4494\n",
      "Epoch 34/200\n",
      "768/768 [==============================] - 0s 38us/step - loss: 0.4396\n",
      "Epoch 35/200\n",
      "768/768 [==============================] - ETA: 0s - loss: 0.515 - 0s 32us/step - loss: 0.4365\n",
      "Epoch 36/200\n",
      "768/768 [==============================] - ETA: 0s - loss: 0.592 - 0s 37us/step - loss: 0.4356\n",
      "Epoch 37/200\n",
      "768/768 [==============================] - 0s 31us/step - loss: 0.4488\n",
      "Epoch 38/200\n",
      "768/768 [==============================] - 0s 42us/step - loss: 0.4363\n",
      "Epoch 39/200\n",
      "768/768 [==============================] - 0s 47us/step - loss: 0.4297\n",
      "Epoch 40/200\n",
      "768/768 [==============================] - 0s 32us/step - loss: 0.4383\n",
      "Epoch 41/200\n",
      "768/768 [==============================] - 0s 31us/step - loss: 0.4503\n",
      "Epoch 42/200\n",
      "768/768 [==============================] - 0s 42us/step - loss: 0.4377\n",
      "Epoch 43/200\n",
      "768/768 [==============================] - 0s 42us/step - loss: 0.4467\n",
      "Epoch 44/200\n",
      "768/768 [==============================] - 0s 25us/step - loss: 0.4695\n",
      "Epoch 45/200\n",
      "768/768 [==============================] - 0s 38us/step - loss: 0.4494\n",
      "Epoch 46/200\n",
      "768/768 [==============================] - 0s 42us/step - loss: 0.4439\n",
      "Epoch 47/200\n",
      "768/768 [==============================] - 0s 32us/step - loss: 0.4451\n",
      "Epoch 48/200\n",
      "768/768 [==============================] - 0s 34us/step - loss: 0.4360\n",
      "Epoch 49/200\n",
      "768/768 [==============================] - 0s 26us/step - loss: 0.4377\n",
      "Epoch 50/200\n",
      "768/768 [==============================] - 0s 36us/step - loss: 0.4367\n",
      "Epoch 51/200\n",
      "768/768 [==============================] - 0s 40us/step - loss: 0.4380\n",
      "Epoch 52/200\n",
      "768/768 [==============================] - ETA: 0s - loss: 0.274 - 0s 38us/step - loss: 0.4364\n",
      "Epoch 53/200\n",
      "768/768 [==============================] - 0s 29us/step - loss: 0.4445\n",
      "Epoch 54/200\n",
      "768/768 [==============================] - 0s 27us/step - loss: 0.4307\n",
      "Epoch 55/200\n",
      "768/768 [==============================] - 0s 27us/step - loss: 0.4395\n",
      "Epoch 56/200\n",
      "768/768 [==============================] - 0s 32us/step - loss: 0.4479\n",
      "Epoch 57/200\n",
      "768/768 [==============================] - 0s 35us/step - loss: 0.4421\n",
      "Epoch 58/200\n",
      "768/768 [==============================] - 0s 38us/step - loss: 0.4414\n",
      "Epoch 59/200\n",
      "768/768 [==============================] - 0s 35us/step - loss: 0.4466\n",
      "Epoch 60/200\n",
      "768/768 [==============================] - 0s 31us/step - loss: 0.4414\n",
      "Epoch 61/200\n",
      "768/768 [==============================] - 0s 42us/step - loss: 0.4535\n",
      "Epoch 62/200\n",
      "768/768 [==============================] - 0s 31us/step - loss: 0.4373\n",
      "Epoch 63/200\n",
      "768/768 [==============================] - 0s 30us/step - loss: 0.4347\n",
      "Epoch 64/200\n",
      "768/768 [==============================] - 0s 27us/step - loss: 0.4429\n",
      "Epoch 65/200\n",
      "768/768 [==============================] - 0s 32us/step - loss: 0.4592\n",
      "Epoch 66/200\n",
      "768/768 [==============================] - 0s 25us/step - loss: 0.4490\n",
      "Epoch 67/200\n",
      "768/768 [==============================] - 0s 27us/step - loss: 0.4350\n",
      "Epoch 68/200\n",
      "768/768 [==============================] - 0s 32us/step - loss: 0.4462\n",
      "Epoch 69/200\n",
      "768/768 [==============================] - 0s 29us/step - loss: 0.4518\n",
      "Epoch 70/200\n",
      "768/768 [==============================] - 0s 22us/step - loss: 0.4341\n",
      "Epoch 71/200\n",
      "768/768 [==============================] - 0s 35us/step - loss: 0.4425\n",
      "Epoch 72/200\n",
      "768/768 [==============================] - 0s 30us/step - loss: 0.4403\n",
      "Epoch 73/200\n",
      "768/768 [==============================] - 0s 31us/step - loss: 0.4315\n",
      "Epoch 74/200\n",
      "768/768 [==============================] - 0s 25us/step - loss: 0.4372\n",
      "Epoch 75/200\n",
      "768/768 [==============================] - 0s 27us/step - loss: 0.4470\n",
      "Epoch 76/200\n",
      "768/768 [==============================] - 0s 40us/step - loss: 0.4320\n",
      "Epoch 77/200\n",
      "768/768 [==============================] - 0s 32us/step - loss: 0.4470\n",
      "Epoch 78/200\n",
      "768/768 [==============================] - 0s 34us/step - loss: 0.4336\n",
      "Epoch 79/200\n",
      "768/768 [==============================] - 0s 34us/step - loss: 0.4324\n",
      "Epoch 80/200\n",
      "768/768 [==============================] - 0s 22us/step - loss: 0.4368\n",
      "Epoch 81/200\n",
      "768/768 [==============================] - 0s 32us/step - loss: 0.4542\n",
      "Epoch 82/200\n",
      "768/768 [==============================] - 0s 26us/step - loss: 0.4400\n",
      "Epoch 83/200\n",
      "768/768 [==============================] - 0s 30us/step - loss: 0.4330\n",
      "Epoch 84/200\n",
      "768/768 [==============================] - 0s 39us/step - loss: 0.4368\n",
      "Epoch 85/200\n",
      "768/768 [==============================] - 0s 39us/step - loss: 0.4342\n",
      "Epoch 86/200\n",
      "768/768 [==============================] - 0s 40us/step - loss: 0.4364\n",
      "Epoch 87/200\n",
      "768/768 [==============================] - 0s 32us/step - loss: 0.4383\n",
      "Epoch 88/200\n",
      "768/768 [==============================] - 0s 25us/step - loss: 0.4325\n",
      "Epoch 89/200\n",
      "768/768 [==============================] - 0s 29us/step - loss: 0.4374\n",
      "Epoch 90/200\n",
      "768/768 [==============================] - 0s 35us/step - loss: 0.4325\n",
      "Epoch 91/200\n",
      "768/768 [==============================] - 0s 27us/step - loss: 0.4303\n",
      "Epoch 92/200\n",
      "768/768 [==============================] - 0s 35us/step - loss: 0.4391\n",
      "Epoch 93/200\n",
      "768/768 [==============================] - 0s 38us/step - loss: 0.4299\n",
      "Epoch 94/200\n",
      "768/768 [==============================] - 0s 30us/step - loss: 0.4322\n",
      "Epoch 95/200\n",
      "768/768 [==============================] - 0s 34us/step - loss: 0.4395\n",
      "Epoch 96/200\n",
      "768/768 [==============================] - 0s 29us/step - loss: 0.4297\n",
      "Epoch 97/200\n"
     ]
    },
    {
     "name": "stdout",
     "output_type": "stream",
     "text": [
      "768/768 [==============================] - 0s 23us/step - loss: 0.4306\n",
      "Epoch 98/200\n",
      "768/768 [==============================] - 0s 32us/step - loss: 0.4481\n",
      "Epoch 99/200\n",
      "768/768 [==============================] - 0s 30us/step - loss: 0.4559\n",
      "Epoch 100/200\n",
      "768/768 [==============================] - ETA: 0s - loss: 0.359 - 0s 35us/step - loss: 0.4436\n",
      "Epoch 101/200\n",
      "768/768 [==============================] - 0s 31us/step - loss: 0.4463\n",
      "Epoch 102/200\n",
      "768/768 [==============================] - 0s 39us/step - loss: 0.4378\n",
      "Epoch 103/200\n",
      "768/768 [==============================] - 0s 27us/step - loss: 0.4313\n",
      "Epoch 104/200\n",
      "768/768 [==============================] - 0s 30us/step - loss: 0.4334\n",
      "Epoch 105/200\n",
      "768/768 [==============================] - 0s 29us/step - loss: 0.4385\n",
      "Epoch 106/200\n",
      "768/768 [==============================] - 0s 30us/step - loss: 0.4356\n",
      "Epoch 107/200\n",
      "768/768 [==============================] - 0s 26us/step - loss: 0.4354\n",
      "Epoch 108/200\n",
      "768/768 [==============================] - 0s 32us/step - loss: 0.4399\n",
      "Epoch 109/200\n",
      "768/768 [==============================] - 0s 32us/step - loss: 0.4445\n",
      "Epoch 110/200\n",
      "768/768 [==============================] - 0s 23us/step - loss: 0.4298\n",
      "Epoch 111/200\n",
      "768/768 [==============================] - 0s 29us/step - loss: 0.4514\n",
      "Epoch 112/200\n",
      "768/768 [==============================] - 0s 34us/step - loss: 0.4386\n",
      "Epoch 113/200\n",
      "768/768 [==============================] - 0s 35us/step - loss: 0.4403\n",
      "Epoch 114/200\n",
      "768/768 [==============================] - 0s 31us/step - loss: 0.4398\n",
      "Epoch 115/200\n",
      "768/768 [==============================] - 0s 34us/step - loss: 0.4316\n",
      "Epoch 116/200\n",
      "768/768 [==============================] - 0s 39us/step - loss: 0.4415\n",
      "Epoch 117/200\n",
      "768/768 [==============================] - 0s 31us/step - loss: 0.4548\n",
      "Epoch 118/200\n",
      "768/768 [==============================] - 0s 31us/step - loss: 0.4360\n",
      "Epoch 119/200\n",
      "768/768 [==============================] - 0s 30us/step - loss: 0.4361\n",
      "Epoch 120/200\n",
      "768/768 [==============================] - 0s 35us/step - loss: 0.4322\n",
      "Epoch 121/200\n",
      "768/768 [==============================] - 0s 31us/step - loss: 0.4305\n",
      "Epoch 122/200\n",
      "768/768 [==============================] - 0s 36us/step - loss: 0.4456\n",
      "Epoch 123/200\n",
      "768/768 [==============================] - 0s 30us/step - loss: 0.4524\n",
      "Epoch 124/200\n",
      "768/768 [==============================] - 0s 27us/step - loss: 0.4366\n",
      "Epoch 125/200\n",
      "768/768 [==============================] - 0s 34us/step - loss: 0.4474\n",
      "Epoch 126/200\n",
      "768/768 [==============================] - 0s 32us/step - loss: 0.4586\n",
      "Epoch 127/200\n",
      "768/768 [==============================] - 0s 30us/step - loss: 0.4356\n",
      "Epoch 128/200\n",
      "768/768 [==============================] - 0s 26us/step - loss: 0.4412\n",
      "Epoch 129/200\n",
      "768/768 [==============================] - 0s 31us/step - loss: 0.4347\n",
      "Epoch 130/200\n",
      "768/768 [==============================] - 0s 32us/step - loss: 0.4324\n",
      "Epoch 131/200\n",
      "768/768 [==============================] - 0s 31us/step - loss: 0.4339\n",
      "Epoch 132/200\n",
      "768/768 [==============================] - 0s 27us/step - loss: 0.4366\n",
      "Epoch 133/200\n",
      "768/768 [==============================] - 0s 31us/step - loss: 0.4298\n",
      "Epoch 134/200\n",
      "768/768 [==============================] - 0s 32us/step - loss: 0.4293\n",
      "Epoch 135/200\n",
      "768/768 [==============================] - 0s 30us/step - loss: 0.4332\n",
      "Epoch 136/200\n",
      "768/768 [==============================] - 0s 23us/step - loss: 0.4275\n",
      "Epoch 137/200\n",
      "768/768 [==============================] - 0s 27us/step - loss: 0.4437\n",
      "Epoch 138/200\n",
      "768/768 [==============================] - 0s 30us/step - loss: 0.4459\n",
      "Epoch 139/200\n",
      "768/768 [==============================] - 0s 27us/step - loss: 0.4560\n",
      "Epoch 140/200\n",
      "768/768 [==============================] - 0s 30us/step - loss: 0.4349\n",
      "Epoch 141/200\n",
      "768/768 [==============================] - 0s 26us/step - loss: 0.4312\n",
      "Epoch 142/200\n",
      "768/768 [==============================] - 0s 30us/step - loss: 0.4356\n",
      "Epoch 143/200\n",
      "768/768 [==============================] - 0s 35us/step - loss: 0.4371\n",
      "Epoch 144/200\n",
      "768/768 [==============================] - 0s 31us/step - loss: 0.4363\n",
      "Epoch 145/200\n",
      "768/768 [==============================] - 0s 30us/step - loss: 0.4317\n",
      "Epoch 146/200\n",
      "768/768 [==============================] - 0s 30us/step - loss: 0.4316\n",
      "Epoch 147/200\n",
      "768/768 [==============================] - 0s 35us/step - loss: 0.4359\n",
      "Epoch 148/200\n",
      "768/768 [==============================] - 0s 31us/step - loss: 0.4289\n",
      "Epoch 149/200\n",
      "768/768 [==============================] - 0s 22us/step - loss: 0.4293\n",
      "Epoch 150/200\n",
      "768/768 [==============================] - 0s 30us/step - loss: 0.4396\n",
      "Epoch 151/200\n",
      "768/768 [==============================] - 0s 23us/step - loss: 0.4366\n",
      "Epoch 152/200\n",
      "768/768 [==============================] - 0s 32us/step - loss: 0.4311\n",
      "Epoch 153/200\n",
      "768/768 [==============================] - 0s 36us/step - loss: 0.4387\n",
      "Epoch 154/200\n",
      "768/768 [==============================] - 0s 34us/step - loss: 0.4357\n",
      "Epoch 155/200\n",
      "768/768 [==============================] - 0s 26us/step - loss: 0.4322\n",
      "Epoch 156/200\n",
      "768/768 [==============================] - 0s 31us/step - loss: 0.4327\n",
      "Epoch 157/200\n",
      "768/768 [==============================] - 0s 35us/step - loss: 0.4315\n",
      "Epoch 158/200\n",
      "768/768 [==============================] - 0s 34us/step - loss: 0.4330\n",
      "Epoch 159/200\n",
      "768/768 [==============================] - 0s 25us/step - loss: 0.4436\n",
      "Epoch 160/200\n",
      "768/768 [==============================] - 0s 32us/step - loss: 0.4400\n",
      "Epoch 161/200\n",
      "768/768 [==============================] - 0s 38us/step - loss: 0.4306\n",
      "Epoch 162/200\n",
      "768/768 [==============================] - 0s 31us/step - loss: 0.4338\n",
      "Epoch 163/200\n",
      "768/768 [==============================] - 0s 26us/step - loss: 0.4446\n",
      "Epoch 164/200\n",
      "768/768 [==============================] - 0s 31us/step - loss: 0.4333\n",
      "Epoch 165/200\n",
      "768/768 [==============================] - 0s 36us/step - loss: 0.4358\n",
      "Epoch 166/200\n",
      "768/768 [==============================] - 0s 29us/step - loss: 0.4450\n",
      "Epoch 167/200\n",
      "768/768 [==============================] - 0s 23us/step - loss: 0.4482\n",
      "Epoch 168/200\n",
      "768/768 [==============================] - 0s 34us/step - loss: 0.4329\n",
      "Epoch 169/200\n",
      "768/768 [==============================] - 0s 31us/step - loss: 0.4360\n",
      "Epoch 170/200\n",
      "768/768 [==============================] - 0s 32us/step - loss: 0.4363\n",
      "Epoch 171/200\n",
      "768/768 [==============================] - 0s 25us/step - loss: 0.4305\n",
      "Epoch 172/200\n",
      "768/768 [==============================] - 0s 26us/step - loss: 0.4386\n",
      "Epoch 173/200\n",
      "768/768 [==============================] - 0s 31us/step - loss: 0.4719\n",
      "Epoch 174/200\n",
      "768/768 [==============================] - 0s 29us/step - loss: 0.4457\n",
      "Epoch 175/200\n",
      "768/768 [==============================] - 0s 38us/step - loss: 0.4313\n",
      "Epoch 176/200\n",
      "768/768 [==============================] - 0s 30us/step - loss: 0.4345\n",
      "Epoch 177/200\n",
      "768/768 [==============================] - 0s 25us/step - loss: 0.4692\n",
      "Epoch 178/200\n",
      "768/768 [==============================] - 0s 32us/step - loss: 0.4578\n",
      "Epoch 179/200\n",
      "768/768 [==============================] - 0s 30us/step - loss: 0.4433\n",
      "Epoch 180/200\n",
      "768/768 [==============================] - 0s 29us/step - loss: 0.4406\n",
      "Epoch 181/200\n",
      "768/768 [==============================] - 0s 31us/step - loss: 0.4332\n",
      "Epoch 182/200\n",
      "768/768 [==============================] - 0s 29us/step - loss: 0.4506\n",
      "Epoch 183/200\n",
      "768/768 [==============================] - 0s 25us/step - loss: 0.4380\n",
      "Epoch 184/200\n",
      "768/768 [==============================] - 0s 34us/step - loss: 0.4369\n",
      "Epoch 185/200\n",
      "768/768 [==============================] - 0s 30us/step - loss: 0.4318\n",
      "Epoch 186/200\n",
      "768/768 [==============================] - 0s 27us/step - loss: 0.4297\n",
      "Epoch 187/200\n",
      "768/768 [==============================] - 0s 39us/step - loss: 0.4339\n",
      "Epoch 188/200\n",
      "768/768 [==============================] - 0s 30us/step - loss: 0.4370\n",
      "Epoch 189/200\n",
      "768/768 [==============================] - 0s 27us/step - loss: 0.4376\n",
      "Epoch 190/200\n",
      "768/768 [==============================] - 0s 30us/step - loss: 0.4399\n",
      "Epoch 191/200\n",
      "768/768 [==============================] - 0s 35us/step - loss: 0.4458\n",
      "Epoch 192/200\n",
      "768/768 [==============================] - 0s 25us/step - loss: 0.4457\n",
      "Epoch 193/200\n"
     ]
    },
    {
     "name": "stdout",
     "output_type": "stream",
     "text": [
      "768/768 [==============================] - 0s 30us/step - loss: 0.4440\n",
      "Epoch 194/200\n",
      "768/768 [==============================] - 0s 36us/step - loss: 0.4330\n",
      "Epoch 195/200\n",
      "768/768 [==============================] - 0s 27us/step - loss: 0.4293\n",
      "Epoch 196/200\n",
      "768/768 [==============================] - 0s 35us/step - loss: 0.4453\n",
      "Epoch 197/200\n",
      "768/768 [==============================] - 0s 42us/step - loss: 0.4376\n",
      "Epoch 198/200\n",
      "768/768 [==============================] - 0s 43us/step - loss: 0.4319\n",
      "Epoch 199/200\n",
      "768/768 [==============================] - 0s 42us/step - loss: 0.4342\n",
      "Epoch 200/200\n",
      "768/768 [==============================] - 0s 40us/step - loss: 0.4565\n"
     ]
    },
    {
     "data": {
      "text/plain": [
       "<keras.callbacks.History at 0x20ad377e518>"
      ]
     },
     "execution_count": 59,
     "metadata": {},
     "output_type": "execute_result"
    }
   ],
   "source": [
    "model.fit(X, Y, epochs = 200, batch_size = 50)"
   ]
  },
  {
   "cell_type": "markdown",
   "metadata": {},
   "source": [
    "## evaluation"
   ]
  },
  {
   "cell_type": "code",
   "execution_count": 60,
   "metadata": {},
   "outputs": [],
   "source": [
    "pred_y = model.predict(X)"
   ]
  },
  {
   "cell_type": "code",
   "execution_count": 79,
   "metadata": {},
   "outputs": [
    {
     "name": "stdout",
     "output_type": "stream",
     "text": [
      "accuracy is 0.8072916666666666\n"
     ]
    }
   ],
   "source": [
    "label = [np.round(i[0]) for i in pred_y]\n",
    "accuracy = len(np.where(label == Y)[0])/Y.shape[0]\n",
    "print('accuracy is {}'.format(accuracy))\n",
    "\n",
    "# another way to predict\n",
    "pred_y2 = model.predict_classes(X)"
   ]
  },
  {
   "cell_type": "markdown",
   "metadata": {},
   "source": [
    "## save the model as JSON"
   ]
  },
  {
   "cell_type": "code",
   "execution_count": 84,
   "metadata": {},
   "outputs": [
    {
     "name": "stdout",
     "output_type": "stream",
     "text": [
      "Save the model to disk\n"
     ]
    }
   ],
   "source": [
    "model_json = model.to_json()\n",
    "with open(\"model.json\", \"w\") as json_file:\n",
    "          json_file.write(model_json)\n",
    "model.save_weights(\"model.h5\")\n",
    "print(\"Save the model to disk\")"
   ]
  },
  {
   "cell_type": "markdown",
   "metadata": {},
   "source": [
    "## Use the model saved before"
   ]
  },
  {
   "cell_type": "code",
   "execution_count": 92,
   "metadata": {},
   "outputs": [
    {
     "name": "stdout",
     "output_type": "stream",
     "text": [
      "load complete!\n"
     ]
    }
   ],
   "source": [
    "from keras.models import model_from_json\n",
    "\n",
    "json_file = open('model.json', 'r')\n",
    "loaded_model_json = json_file.read()\n",
    "json_file.close()\n",
    "load_model = model_from_json(loaded_model_json)\n",
    "\n",
    "# load weight to the model\n",
    "load_model.load_weights(\"model.h5\")\n",
    "print(\"load complete!\")"
   ]
  },
  {
   "cell_type": "markdown",
   "metadata": {},
   "source": [
    "## evaluate the loaded model "
   ]
  },
  {
   "cell_type": "code",
   "execution_count": 93,
   "metadata": {},
   "outputs": [],
   "source": [
    "load_model.compile(loss = 'binary_crossentropy', optimizer = 'rmsprop')"
   ]
  },
  {
   "cell_type": "code",
   "execution_count": 94,
   "metadata": {},
   "outputs": [],
   "source": [
    "pred_y = load_model.predict(X)"
   ]
  },
  {
   "cell_type": "code",
   "execution_count": 95,
   "metadata": {},
   "outputs": [
    {
     "name": "stdout",
     "output_type": "stream",
     "text": [
      "accuracy is 0.8072916666666666\n"
     ]
    }
   ],
   "source": [
    "label = [np.round(i[0]) for i in pred_y]\n",
    "accuracy = len(np.where(label == Y)[0])/Y.shape[0]\n",
    "print('accuracy is {}'.format(accuracy))"
   ]
  },
  {
   "cell_type": "markdown",
   "metadata": {},
   "source": [
    "## a simpler way to save model"
   ]
  },
  {
   "cell_type": "code",
   "execution_count": 96,
   "metadata": {},
   "outputs": [],
   "source": [
    "model.save(\"model2.h5\")"
   ]
  },
  {
   "cell_type": "code",
   "execution_count": 97,
   "metadata": {},
   "outputs": [],
   "source": [
    "from keras.models import load_model\n",
    "\n",
    "model2 = load_model('model2.h5')"
   ]
  },
  {
   "cell_type": "code",
   "execution_count": 98,
   "metadata": {},
   "outputs": [
    {
     "name": "stdout",
     "output_type": "stream",
     "text": [
      "_________________________________________________________________\n",
      "Layer (type)                 Output Shape              Param #   \n",
      "=================================================================\n",
      "dense_4 (Dense)              (None, 12)                108       \n",
      "_________________________________________________________________\n",
      "dense_5 (Dense)              (None, 8)                 104       \n",
      "_________________________________________________________________\n",
      "dense_6 (Dense)              (None, 1)                 9         \n",
      "=================================================================\n",
      "Total params: 221\n",
      "Trainable params: 221\n",
      "Non-trainable params: 0\n",
      "_________________________________________________________________\n"
     ]
    }
   ],
   "source": [
    "model2.summary()"
   ]
  },
  {
   "cell_type": "code",
   "execution_count": 99,
   "metadata": {},
   "outputs": [],
   "source": [
    "pred_y = model2.predict(X)"
   ]
  },
  {
   "cell_type": "code",
   "execution_count": 100,
   "metadata": {},
   "outputs": [
    {
     "name": "stdout",
     "output_type": "stream",
     "text": [
      "accuracy is 0.8072916666666666\n"
     ]
    }
   ],
   "source": [
    "label = [np.round(i[0]) for i in pred_y]\n",
    "accuracy = len(np.where(label == Y)[0])/Y.shape[0]\n",
    "print('accuracy is {}'.format(accuracy))"
   ]
  }
 ],
 "metadata": {
  "kernelspec": {
   "display_name": "Python 3",
   "language": "python",
   "name": "python3"
  },
  "language_info": {
   "codemirror_mode": {
    "name": "ipython",
    "version": 3
   },
   "file_extension": ".py",
   "mimetype": "text/x-python",
   "name": "python",
   "nbconvert_exporter": "python",
   "pygments_lexer": "ipython3",
   "version": "3.7.0"
  }
 },
 "nbformat": 4,
 "nbformat_minor": 2
}
