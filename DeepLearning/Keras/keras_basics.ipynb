{
 "cells": [
  {
   "cell_type": "markdown",
   "metadata": {},
   "source": [
    "## sequential model\n",
    "\n",
    "a linear stack of layers"
   ]
  },
  {
   "cell_type": "code",
   "execution_count": 2,
   "metadata": {},
   "outputs": [],
   "source": [
    "from keras.models import Sequential\n",
    "from keras.layers import Dense, Activation"
   ]
  },
  {
   "cell_type": "code",
   "execution_count": 4,
   "metadata": {},
   "outputs": [
    {
     "name": "stdout",
     "output_type": "stream",
     "text": [
      "WARNING:tensorflow:From D:\\download\\Programming_language\\python\\Ana\\lib\\site-packages\\tensorflow\\python\\framework\\op_def_library.py:263: colocate_with (from tensorflow.python.framework.ops) is deprecated and will be removed in a future version.\n",
      "Instructions for updating:\n",
      "Colocations handled automatically by placer.\n"
     ]
    }
   ],
   "source": [
    "model = Sequential([\n",
    "    Dense(32, input_shape=(784,)),\n",
    "    Activation('relu'),\n",
    "    Dense(10),\n",
    "    Activation('softmax')\n",
    "])"
   ]
  },
  {
   "cell_type": "code",
   "execution_count": 6,
   "metadata": {},
   "outputs": [
    {
     "name": "stdout",
     "output_type": "stream",
     "text": [
      "_________________________________________________________________\n",
      "Layer (type)                 Output Shape              Param #   \n",
      "=================================================================\n",
      "dense_1 (Dense)              (None, 32)                25120     \n",
      "_________________________________________________________________\n",
      "activation_1 (Activation)    (None, 32)                0         \n",
      "_________________________________________________________________\n",
      "dense_2 (Dense)              (None, 10)                330       \n",
      "_________________________________________________________________\n",
      "activation_2 (Activation)    (None, 10)                0         \n",
      "=================================================================\n",
      "Total params: 25,450\n",
      "Trainable params: 25,450\n",
      "Non-trainable params: 0\n",
      "_________________________________________________________________\n"
     ]
    }
   ],
   "source": [
    "model.summary()"
   ]
  },
  {
   "cell_type": "code",
   "execution_count": 11,
   "metadata": {},
   "outputs": [],
   "source": [
    "# we can also simply add layers via the .add method\n",
    "\n",
    "model2 = Sequential()\n",
    "model2.add(Dense(32, input_dim=784))\n",
    "model2.add(Activation('relu'))"
   ]
  },
  {
   "cell_type": "code",
   "execution_count": 12,
   "metadata": {},
   "outputs": [
    {
     "name": "stdout",
     "output_type": "stream",
     "text": [
      "_________________________________________________________________\n",
      "Layer (type)                 Output Shape              Param #   \n",
      "=================================================================\n",
      "dense_7 (Dense)              (None, 32)                25120     \n",
      "_________________________________________________________________\n",
      "activation_3 (Activation)    (None, 32)                0         \n",
      "=================================================================\n",
      "Total params: 25,120\n",
      "Trainable params: 25,120\n",
      "Non-trainable params: 0\n",
      "_________________________________________________________________\n"
     ]
    }
   ],
   "source": [
    "model2.summary()"
   ]
  },
  {
   "cell_type": "markdown",
   "metadata": {},
   "source": [
    "## some note here\n",
    "we can specify the input shape via key word input_shape. Alternativly, we can also use Dense(n) and input_dim to get the same result"
   ]
  },
  {
   "cell_type": "code",
   "execution_count": 14,
   "metadata": {},
   "outputs": [],
   "source": [
    "# for example the following two snippets are strictly equivalent"
   ]
  },
  {
   "cell_type": "code",
   "execution_count": 16,
   "metadata": {},
   "outputs": [],
   "source": [
    "model3 = Sequential()\n",
    "model3.add(Dense(32, input_shape=(784,)))\n",
    "\n",
    "model4 = Sequential()\n",
    "model4.add(Dense(32, input_dim=784))"
   ]
  },
  {
   "cell_type": "markdown",
   "metadata": {},
   "source": [
    "## compilation"
   ]
  },
  {
   "cell_type": "code",
   "execution_count": 19,
   "metadata": {},
   "outputs": [],
   "source": [
    "# for a multi-class classification problem\n",
    "model.compile(optimizer='rmsprop', \n",
    "             loss = 'categorical_crossentropy',\n",
    "             metrics = ['accuracy'])\n",
    "\n",
    "# for a binary classification problem\n",
    "model.compile(optimizer = 'rmsprop',\n",
    "             loss = 'binary_crossentropy',\n",
    "             metrics = ['accuracy'])\n",
    "\n",
    "#for a mean square error regression problem\n",
    "model.compile(optimizer = 'rmsprop',\n",
    "             loss = 'mse')\n",
    "\n",
    "# for custom metrics\n",
    "import keras.backend as K\n",
    "\n",
    "def mean_pred(y_true, y_pred):\n",
    "    return K.mean(y_pred)\n",
    "\n",
    "model.compile(optimizer = 'rmsprop',\n",
    "             loss = 'binary_crossentropy',\n",
    "             metrics = ['accuracy', mean_pred])"
   ]
  },
  {
   "cell_type": "markdown",
   "metadata": {},
   "source": [
    "## fit"
   ]
  },
  {
   "cell_type": "code",
   "execution_count": 21,
   "metadata": {},
   "outputs": [
    {
     "name": "stdout",
     "output_type": "stream",
     "text": [
      "WARNING:tensorflow:From D:\\download\\Programming_language\\python\\Ana\\lib\\site-packages\\tensorflow\\python\\ops\\math_ops.py:3066: to_int32 (from tensorflow.python.ops.math_ops) is deprecated and will be removed in a future version.\n",
      "Instructions for updating:\n",
      "Use tf.cast instead.\n",
      "Epoch 1/10\n",
      "1000/1000 [==============================] - 0s 471us/step - loss: 0.7021 - acc: 0.5220\n",
      "Epoch 2/10\n",
      "1000/1000 [==============================] - 0s 26us/step - loss: 0.6939 - acc: 0.5340\n",
      "Epoch 3/10\n",
      "1000/1000 [==============================] - 0s 30us/step - loss: 0.6897 - acc: 0.5380\n",
      "Epoch 4/10\n",
      "1000/1000 [==============================] - 0s 45us/step - loss: 0.6823 - acc: 0.5500\n",
      "Epoch 5/10\n",
      "1000/1000 [==============================] - 0s 40us/step - loss: 0.6813 - acc: 0.5450\n",
      "Epoch 6/10\n",
      "1000/1000 [==============================] - 0s 34us/step - loss: 0.6765 - acc: 0.5650\n",
      "Epoch 7/10\n",
      "1000/1000 [==============================] - 0s 40us/step - loss: 0.6705 - acc: 0.5890\n",
      "Epoch 8/10\n",
      "1000/1000 [==============================] - 0s 38us/step - loss: 0.6693 - acc: 0.5890\n",
      "Epoch 9/10\n",
      "1000/1000 [==============================] - 0s 33us/step - loss: 0.6636 - acc: 0.6040\n",
      "Epoch 10/10\n",
      "1000/1000 [==============================] - 0s 59us/step - loss: 0.6640 - acc: 0.6060\n"
     ]
    },
    {
     "data": {
      "text/plain": [
       "<keras.callbacks.History at 0x296d3f5aeb8>"
      ]
     },
     "execution_count": 21,
     "metadata": {},
     "output_type": "execute_result"
    }
   ],
   "source": [
    "# for a single input model with 2 classes(binary classification)\n",
    "model = Sequential()\n",
    "model.add(Dense(32, activation='relu', input_dim = 100))\n",
    "model.add(Dense(1, activation = 'sigmoid'))\n",
    "model.compile(optimizer='rmsprop',\n",
    "             loss = 'binary_crossentropy',\n",
    "             metrics = ['accuracy'])\n",
    "\n",
    "# Generate dummy data\n",
    "import numpy as np\n",
    "data = np.random.random((1000, 100))\n",
    "labels = np.random.randint(2, size = (1000, 1))\n",
    "\n",
    "# Train the model, iterating on the data in batches of 32 samples\n",
    "model.fit(data, labels, epochs=10, batch_size = 32)"
   ]
  },
  {
   "cell_type": "code",
   "execution_count": 22,
   "metadata": {},
   "outputs": [
    {
     "name": "stdout",
     "output_type": "stream",
     "text": [
      "_________________________________________________________________\n",
      "Layer (type)                 Output Shape              Param #   \n",
      "=================================================================\n",
      "dense_12 (Dense)             (None, 32)                3232      \n",
      "_________________________________________________________________\n",
      "dense_13 (Dense)             (None, 1)                 33        \n",
      "=================================================================\n",
      "Total params: 3,265\n",
      "Trainable params: 3,265\n",
      "Non-trainable params: 0\n",
      "_________________________________________________________________\n"
     ]
    }
   ],
   "source": [
    "model.summary()"
   ]
  },
  {
   "cell_type": "code",
   "execution_count": 40,
   "metadata": {},
   "outputs": [
    {
     "name": "stdout",
     "output_type": "stream",
     "text": [
      "Epoch 1/10\n",
      "1000/1000 [==============================] - 1s 652us/step - loss: 2.3485 - acc: 0.1030\n",
      "Epoch 2/10\n",
      "1000/1000 [==============================] - 0s 33us/step - loss: 2.3139 - acc: 0.1140\n",
      "Epoch 3/10\n",
      "1000/1000 [==============================] - 0s 41us/step - loss: 2.3023 - acc: 0.1160\n",
      "Epoch 4/10\n",
      "1000/1000 [==============================] - 0s 42us/step - loss: 2.2911 - acc: 0.1290\n",
      "Epoch 5/10\n",
      "1000/1000 [==============================] - 0s 78us/step - loss: 2.2832 - acc: 0.1450\n",
      "Epoch 6/10\n",
      "1000/1000 [==============================] - 0s 65us/step - loss: 2.2753 - acc: 0.1640\n",
      "Epoch 7/10\n",
      "1000/1000 [==============================] - 0s 45us/step - loss: 2.2661 - acc: 0.1590\n",
      "Epoch 8/10\n",
      "1000/1000 [==============================] - 0s 25us/step - loss: 2.2572 - acc: 0.1670\n",
      "Epoch 9/10\n",
      "1000/1000 [==============================] - 0s 37us/step - loss: 2.2496 - acc: 0.1750\n",
      "Epoch 10/10\n",
      "1000/1000 [==============================] - 0s 41us/step - loss: 2.2403 - acc: 0.1940\n"
     ]
    },
    {
     "data": {
      "text/plain": [
       "<keras.callbacks.History at 0x296d62929b0>"
      ]
     },
     "execution_count": 40,
     "metadata": {},
     "output_type": "execute_result"
    }
   ],
   "source": [
    "# for a single input model with 10 classses (categorical classification)\n",
    "\n",
    "model = Sequential()\n",
    "model.add(Dense(32, activation='relu', input_dim = 100))\n",
    "model.add(Dense(10, activation='softmax'))\n",
    "model.compile(optimizer = 'rmsprop',\n",
    "             loss = 'categorical_crossentropy',\n",
    "             metrics = ['accuracy'])\n",
    "\n",
    "## generate dummy data\n",
    "import numpy as np\n",
    "import keras\n",
    "\n",
    "data = np.random.random((1000, 100))\n",
    "labels = np.random.randint(10, size=(1000, 1))\n",
    "\n",
    "one_hot_labels = keras.utils.to_categorical(labels, num_classes=10)\n",
    "model.fit(data, one_hot_labels, epochs = 10, batch_size=32)"
   ]
  },
  {
   "cell_type": "markdown",
   "metadata": {},
   "source": [
    "## Exercise\n",
    "there are some classical dataset\n",
    "- CIDAR10\n",
    "- IMDB\n",
    "- MNIST"
   ]
  },
  {
   "cell_type": "code",
   "execution_count": null,
   "metadata": {},
   "outputs": [],
   "source": []
  }
 ],
 "metadata": {
  "kernelspec": {
   "display_name": "Python 3",
   "language": "python",
   "name": "python3"
  },
  "language_info": {
   "codemirror_mode": {
    "name": "ipython",
    "version": 3
   },
   "file_extension": ".py",
   "mimetype": "text/x-python",
   "name": "python",
   "nbconvert_exporter": "python",
   "pygments_lexer": "ipython3",
   "version": "3.7.0"
  }
 },
 "nbformat": 4,
 "nbformat_minor": 2
}
