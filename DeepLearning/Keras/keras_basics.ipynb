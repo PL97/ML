{
 "cells": [
  {
   "cell_type": "markdown",
   "metadata": {},
   "source": [
    "## sequential model\n",
    "\n",
    "a linear stack of layers"
   ]
  },
  {
   "cell_type": "code",
   "execution_count": 1,
   "metadata": {},
   "outputs": [
    {
     "name": "stderr",
     "output_type": "stream",
     "text": [
      "Using TensorFlow backend.\n"
     ]
    }
   ],
   "source": [
    "from keras.models import Sequential\n",
    "from keras.layers import Dense, Activation"
   ]
  },
  {
   "cell_type": "code",
   "execution_count": 2,
   "metadata": {},
   "outputs": [
    {
     "name": "stdout",
     "output_type": "stream",
     "text": [
      "WARNING:tensorflow:From D:\\download\\Programming_language\\python\\Ana\\lib\\site-packages\\tensorflow\\python\\framework\\op_def_library.py:263: colocate_with (from tensorflow.python.framework.ops) is deprecated and will be removed in a future version.\n",
      "Instructions for updating:\n",
      "Colocations handled automatically by placer.\n"
     ]
    }
   ],
   "source": [
    "model = Sequential([\n",
    "    Dense(32, input_shape=(784,)),\n",
    "    Activation('relu'),\n",
    "    Dense(10),\n",
    "    Activation('softmax')\n",
    "])"
   ]
  },
  {
   "cell_type": "code",
   "execution_count": 3,
   "metadata": {},
   "outputs": [
    {
     "name": "stdout",
     "output_type": "stream",
     "text": [
      "_________________________________________________________________\n",
      "Layer (type)                 Output Shape              Param #   \n",
      "=================================================================\n",
      "dense_1 (Dense)              (None, 32)                25120     \n",
      "_________________________________________________________________\n",
      "activation_1 (Activation)    (None, 32)                0         \n",
      "_________________________________________________________________\n",
      "dense_2 (Dense)              (None, 10)                330       \n",
      "_________________________________________________________________\n",
      "activation_2 (Activation)    (None, 10)                0         \n",
      "=================================================================\n",
      "Total params: 25,450\n",
      "Trainable params: 25,450\n",
      "Non-trainable params: 0\n",
      "_________________________________________________________________\n"
     ]
    }
   ],
   "source": [
    "model.summary()"
   ]
  },
  {
   "cell_type": "code",
   "execution_count": 4,
   "metadata": {},
   "outputs": [],
   "source": [
    "# we can also simply add layers via the .add method\n",
    "\n",
    "model2 = Sequential()\n",
    "model2.add(Dense(32, input_dim=784))\n",
    "model2.add(Activation('relu'))"
   ]
  },
  {
   "cell_type": "code",
   "execution_count": 5,
   "metadata": {},
   "outputs": [
    {
     "name": "stdout",
     "output_type": "stream",
     "text": [
      "_________________________________________________________________\n",
      "Layer (type)                 Output Shape              Param #   \n",
      "=================================================================\n",
      "dense_3 (Dense)              (None, 32)                25120     \n",
      "_________________________________________________________________\n",
      "activation_3 (Activation)    (None, 32)                0         \n",
      "=================================================================\n",
      "Total params: 25,120\n",
      "Trainable params: 25,120\n",
      "Non-trainable params: 0\n",
      "_________________________________________________________________\n"
     ]
    }
   ],
   "source": [
    "model2.summary()"
   ]
  },
  {
   "cell_type": "markdown",
   "metadata": {},
   "source": [
    "## some note here\n",
    "we can specify the input shape via key word input_shape. Alternativly, we can also use Dense(n) and input_dim to get the same result"
   ]
  },
  {
   "cell_type": "code",
   "execution_count": 6,
   "metadata": {},
   "outputs": [],
   "source": [
    "# for example the following two snippets are strictly equivalent"
   ]
  },
  {
   "cell_type": "code",
   "execution_count": 7,
   "metadata": {},
   "outputs": [],
   "source": [
    "model3 = Sequential()\n",
    "model3.add(Dense(32, input_shape=(784,)))\n",
    "\n",
    "model4 = Sequential()\n",
    "model4.add(Dense(32, input_dim=784))"
   ]
  },
  {
   "cell_type": "markdown",
   "metadata": {},
   "source": [
    "## compilation"
   ]
  },
  {
   "cell_type": "code",
   "execution_count": 8,
   "metadata": {},
   "outputs": [],
   "source": [
    "# for a multi-class classification problem\n",
    "model.compile(optimizer='rmsprop', \n",
    "             loss = 'categorical_crossentropy',\n",
    "             metrics = ['accuracy'])\n",
    "\n",
    "# for a binary classification problem\n",
    "model.compile(optimizer = 'rmsprop',\n",
    "             loss = 'binary_crossentropy',\n",
    "             metrics = ['accuracy'])\n",
    "\n",
    "#for a mean square error regression problem\n",
    "model.compile(optimizer = 'rmsprop',\n",
    "             loss = 'mse')\n",
    "\n",
    "# for custom metrics\n",
    "import keras.backend as K\n",
    "\n",
    "def mean_pred(y_true, y_pred):\n",
    "    return K.mean(y_pred)\n",
    "\n",
    "model.compile(optimizer = 'rmsprop',\n",
    "             loss = 'binary_crossentropy',\n",
    "             metrics = ['accuracy', mean_pred])"
   ]
  },
  {
   "cell_type": "markdown",
   "metadata": {},
   "source": [
    "## fit"
   ]
  },
  {
   "cell_type": "code",
   "execution_count": 9,
   "metadata": {},
   "outputs": [
    {
     "name": "stdout",
     "output_type": "stream",
     "text": [
      "WARNING:tensorflow:From D:\\download\\Programming_language\\python\\Ana\\lib\\site-packages\\tensorflow\\python\\ops\\math_ops.py:3066: to_int32 (from tensorflow.python.ops.math_ops) is deprecated and will be removed in a future version.\n",
      "Instructions for updating:\n",
      "Use tf.cast instead.\n",
      "Epoch 1/10\n",
      "1000/1000 [==============================] - 0s 395us/step - loss: 0.7074 - acc: 0.5300\n",
      "Epoch 2/10\n",
      "1000/1000 [==============================] - 0s 33us/step - loss: 0.6937 - acc: 0.5370\n",
      "Epoch 3/10\n",
      "1000/1000 [==============================] - 0s 46us/step - loss: 0.6883 - acc: 0.5420\n",
      "Epoch 4/10\n",
      "1000/1000 [==============================] - 0s 36us/step - loss: 0.6803 - acc: 0.5740\n",
      "Epoch 5/10\n",
      "1000/1000 [==============================] - 0s 43us/step - loss: 0.6747 - acc: 0.5690\n",
      "Epoch 6/10\n",
      "1000/1000 [==============================] - 0s 38us/step - loss: 0.6724 - acc: 0.5870\n",
      "Epoch 7/10\n",
      "1000/1000 [==============================] - 0s 38us/step - loss: 0.6694 - acc: 0.5970\n",
      "Epoch 8/10\n",
      "1000/1000 [==============================] - 0s 40us/step - loss: 0.6666 - acc: 0.5990\n",
      "Epoch 9/10\n",
      "1000/1000 [==============================] - 0s 33us/step - loss: 0.6646 - acc: 0.5990\n",
      "Epoch 10/10\n",
      "1000/1000 [==============================] - 0s 42us/step - loss: 0.6582 - acc: 0.6110\n"
     ]
    },
    {
     "data": {
      "text/plain": [
       "<keras.callbacks.History at 0x22fe5d4a7b8>"
      ]
     },
     "execution_count": 9,
     "metadata": {},
     "output_type": "execute_result"
    }
   ],
   "source": [
    "# for a single input model with 2 classes(binary classification)\n",
    "model = Sequential()\n",
    "model.add(Dense(32, activation='relu', input_dim = 100))\n",
    "model.add(Dense(1, activation = 'sigmoid'))\n",
    "model.compile(optimizer='rmsprop',\n",
    "             loss = 'binary_crossentropy',\n",
    "             metrics = ['accuracy'])\n",
    "\n",
    "# Generate dummy data\n",
    "import numpy as np\n",
    "data = np.random.random((1000, 100))\n",
    "labels = np.random.randint(2, size = (1000, 1))\n",
    "\n",
    "# Train the model, iterating on the data in batches of 32 samples\n",
    "model.fit(data, labels, epochs=10, batch_size = 32)"
   ]
  },
  {
   "cell_type": "code",
   "execution_count": 10,
   "metadata": {},
   "outputs": [
    {
     "name": "stdout",
     "output_type": "stream",
     "text": [
      "_________________________________________________________________\n",
      "Layer (type)                 Output Shape              Param #   \n",
      "=================================================================\n",
      "dense_6 (Dense)              (None, 32)                3232      \n",
      "_________________________________________________________________\n",
      "dense_7 (Dense)              (None, 1)                 33        \n",
      "=================================================================\n",
      "Total params: 3,265\n",
      "Trainable params: 3,265\n",
      "Non-trainable params: 0\n",
      "_________________________________________________________________\n"
     ]
    }
   ],
   "source": [
    "model.summary()"
   ]
  },
  {
   "cell_type": "code",
   "execution_count": 11,
   "metadata": {},
   "outputs": [
    {
     "name": "stdout",
     "output_type": "stream",
     "text": [
      "Epoch 1/10\n",
      "1000/1000 [==============================] - 0s 276us/step - loss: 2.3572 - acc: 0.0980\n",
      "Epoch 2/10\n",
      "1000/1000 [==============================] - 0s 39us/step - loss: 2.3118 - acc: 0.1210\n",
      "Epoch 3/10\n",
      "1000/1000 [==============================] - 0s 33us/step - loss: 2.2994 - acc: 0.1120\n",
      "Epoch 4/10\n",
      "1000/1000 [==============================] - 0s 38us/step - loss: 2.2877 - acc: 0.1320\n",
      "Epoch 5/10\n",
      "1000/1000 [==============================] - 0s 39us/step - loss: 2.2821 - acc: 0.1310\n",
      "Epoch 6/10\n",
      "1000/1000 [==============================] - 0s 35us/step - loss: 2.2731 - acc: 0.1480\n",
      "Epoch 7/10\n",
      "1000/1000 [==============================] - 0s 42us/step - loss: 2.2654 - acc: 0.1570\n",
      "Epoch 8/10\n",
      "1000/1000 [==============================] - 0s 40us/step - loss: 2.2577 - acc: 0.1580\n",
      "Epoch 9/10\n",
      "1000/1000 [==============================] - 0s 36us/step - loss: 2.2503 - acc: 0.1690\n",
      "Epoch 10/10\n",
      "1000/1000 [==============================] - 0s 40us/step - loss: 2.2421 - acc: 0.1840\n"
     ]
    },
    {
     "data": {
      "text/plain": [
       "<keras.callbacks.History at 0x22fe7506eb8>"
      ]
     },
     "execution_count": 11,
     "metadata": {},
     "output_type": "execute_result"
    }
   ],
   "source": [
    "# for a single input model with 10 classses (categorical classification)\n",
    "\n",
    "model = Sequential()\n",
    "model.add(Dense(32, activation='relu', input_dim = 100))\n",
    "model.add(Dense(10, activation='softmax'))\n",
    "model.compile(optimizer = 'rmsprop',\n",
    "             loss = 'categorical_crossentropy',\n",
    "             metrics = ['accuracy'])\n",
    "\n",
    "## generate dummy data\n",
    "import numpy as np\n",
    "import keras\n",
    "\n",
    "data = np.random.random((1000, 100))\n",
    "labels = np.random.randint(10, size=(1000, 1))\n",
    "\n",
    "one_hot_labels = keras.utils.to_categorical(labels, num_classes=10)\n",
    "model.fit(data, one_hot_labels, epochs = 10, batch_size=32)"
   ]
  },
  {
   "cell_type": "markdown",
   "metadata": {},
   "source": [
    "## Exercise\n",
    "there are some classical dataset\n",
    "- CIDAR10\n",
    "- IMDB\n",
    "- MNIST"
   ]
  },
  {
   "cell_type": "markdown",
   "metadata": {},
   "source": [
    "### case 1: multilayer perceptron MLP for muti-class softmax classification"
   ]
  },
  {
   "cell_type": "code",
   "execution_count": 12,
   "metadata": {},
   "outputs": [],
   "source": [
    "import keras\n",
    "from keras.models import Sequential\n",
    "from keras.layers import Dense, Dropout, Activation\n",
    "from keras.optimizers import SGD\n",
    "\n",
    "# Generate dummy data\n",
    "import numpy as np\n",
    "x_train = np.random.random((1000, 20))\n",
    "y_train = keras.utils.to_categorical(np.random.randint(10, size = (1000, 1)), num_classes=10)\n",
    "x_test = np.random.random((100, 20))\n",
    "y_test = keras.utils.to_categorical(np.random.randint(10, size = (100, 1)), num_classes=10)"
   ]
  },
  {
   "cell_type": "code",
   "execution_count": 13,
   "metadata": {},
   "outputs": [
    {
     "name": "stdout",
     "output_type": "stream",
     "text": [
      "WARNING:tensorflow:From D:\\download\\Programming_language\\python\\Ana\\lib\\site-packages\\keras\\backend\\tensorflow_backend.py:3445: calling dropout (from tensorflow.python.ops.nn_ops) with keep_prob is deprecated and will be removed in a future version.\n",
      "Instructions for updating:\n",
      "Please use `rate` instead of `keep_prob`. Rate should be set to `rate = 1 - keep_prob`.\n",
      "Epoch 1/200\n",
      "1000/1000 [==============================] - 0s 405us/step - loss: 2.3800 - acc: 0.0830\n",
      "Epoch 2/200\n",
      "1000/1000 [==============================] - 0s 39us/step - loss: 2.3493 - acc: 0.0920\n",
      "Epoch 3/200\n",
      "1000/1000 [==============================] - 0s 32us/step - loss: 2.3255 - acc: 0.1040\n",
      "Epoch 4/200\n",
      "1000/1000 [==============================] - 0s 30us/step - loss: 2.3184 - acc: 0.1100\n",
      "Epoch 5/200\n",
      "1000/1000 [==============================] - 0s 35us/step - loss: 2.3018 - acc: 0.1260\n",
      "Epoch 6/200\n",
      "1000/1000 [==============================] - 0s 34us/step - loss: 2.3045 - acc: 0.1170\n",
      "Epoch 7/200\n",
      "1000/1000 [==============================] - 0s 30us/step - loss: 2.3096 - acc: 0.1040\n",
      "Epoch 8/200\n",
      "1000/1000 [==============================] - 0s 33us/step - loss: 2.3083 - acc: 0.1100\n",
      "Epoch 9/200\n",
      "1000/1000 [==============================] - 0s 33us/step - loss: 2.3013 - acc: 0.1150\n",
      "Epoch 10/200\n",
      "1000/1000 [==============================] - 0s 30us/step - loss: 2.2988 - acc: 0.1230\n",
      "Epoch 11/200\n",
      "1000/1000 [==============================] - 0s 31us/step - loss: 2.2970 - acc: 0.1180\n",
      "Epoch 12/200\n",
      "1000/1000 [==============================] - 0s 32us/step - loss: 2.3116 - acc: 0.1050\n",
      "Epoch 13/200\n",
      "1000/1000 [==============================] - 0s 32us/step - loss: 2.2961 - acc: 0.1390\n",
      "Epoch 14/200\n",
      "1000/1000 [==============================] - 0s 36us/step - loss: 2.3013 - acc: 0.1140\n",
      "Epoch 15/200\n",
      "1000/1000 [==============================] - 0s 37us/step - loss: 2.2974 - acc: 0.1180\n",
      "Epoch 16/200\n",
      "1000/1000 [==============================] - 0s 38us/step - loss: 2.2952 - acc: 0.1070\n",
      "Epoch 17/200\n",
      "1000/1000 [==============================] - 0s 39us/step - loss: 2.3019 - acc: 0.1020\n",
      "Epoch 18/200\n",
      "1000/1000 [==============================] - 0s 43us/step - loss: 2.2938 - acc: 0.1180\n",
      "Epoch 19/200\n",
      "1000/1000 [==============================] - 0s 38us/step - loss: 2.2913 - acc: 0.1280\n",
      "Epoch 20/200\n",
      "1000/1000 [==============================] - 0s 45us/step - loss: 2.2891 - acc: 0.1370\n",
      "Epoch 21/200\n",
      "1000/1000 [==============================] - 0s 40us/step - loss: 2.2925 - acc: 0.1300\n",
      "Epoch 22/200\n",
      "1000/1000 [==============================] - 0s 38us/step - loss: 2.2958 - acc: 0.1210\n",
      "Epoch 23/200\n",
      "1000/1000 [==============================] - 0s 39us/step - loss: 2.2964 - acc: 0.1270\n",
      "Epoch 24/200\n",
      "1000/1000 [==============================] - 0s 37us/step - loss: 2.2914 - acc: 0.1310\n",
      "Epoch 25/200\n",
      "1000/1000 [==============================] - 0s 40us/step - loss: 2.2902 - acc: 0.1300\n",
      "Epoch 26/200\n",
      "1000/1000 [==============================] - 0s 35us/step - loss: 2.2943 - acc: 0.1180\n",
      "Epoch 27/200\n",
      "1000/1000 [==============================] - 0s 41us/step - loss: 2.2910 - acc: 0.1150\n",
      "Epoch 28/200\n",
      "1000/1000 [==============================] - 0s 36us/step - loss: 2.2940 - acc: 0.1160\n",
      "Epoch 29/200\n",
      "1000/1000 [==============================] - 0s 38us/step - loss: 2.2905 - acc: 0.1370\n",
      "Epoch 30/200\n",
      "1000/1000 [==============================] - 0s 35us/step - loss: 2.2908 - acc: 0.1320\n",
      "Epoch 31/200\n",
      "1000/1000 [==============================] - 0s 38us/step - loss: 2.2865 - acc: 0.1310\n",
      "Epoch 32/200\n",
      "1000/1000 [==============================] - 0s 37us/step - loss: 2.2948 - acc: 0.1290\n",
      "Epoch 33/200\n",
      "1000/1000 [==============================] - 0s 33us/step - loss: 2.2874 - acc: 0.1350\n",
      "Epoch 34/200\n",
      "1000/1000 [==============================] - 0s 39us/step - loss: 2.2922 - acc: 0.1130\n",
      "Epoch 35/200\n",
      "1000/1000 [==============================] - 0s 34us/step - loss: 2.2909 - acc: 0.1330\n",
      "Epoch 36/200\n",
      "1000/1000 [==============================] - 0s 32us/step - loss: 2.2902 - acc: 0.1370\n",
      "Epoch 37/200\n",
      "1000/1000 [==============================] - 0s 37us/step - loss: 2.2905 - acc: 0.1260\n",
      "Epoch 38/200\n",
      "1000/1000 [==============================] - 0s 36us/step - loss: 2.2922 - acc: 0.1390\n",
      "Epoch 39/200\n",
      "1000/1000 [==============================] - 0s 33us/step - loss: 2.2899 - acc: 0.1350\n",
      "Epoch 40/200\n",
      "1000/1000 [==============================] - 0s 35us/step - loss: 2.2927 - acc: 0.1230\n",
      "Epoch 41/200\n",
      "1000/1000 [==============================] - 0s 36us/step - loss: 2.2846 - acc: 0.1290\n",
      "Epoch 42/200\n",
      "1000/1000 [==============================] - 0s 30us/step - loss: 2.2896 - acc: 0.1270\n",
      "Epoch 43/200\n",
      "1000/1000 [==============================] - 0s 31us/step - loss: 2.2859 - acc: 0.1380\n",
      "Epoch 44/200\n",
      "1000/1000 [==============================] - 0s 34us/step - loss: 2.2900 - acc: 0.1310\n",
      "Epoch 45/200\n",
      "1000/1000 [==============================] - 0s 33us/step - loss: 2.2915 - acc: 0.1220\n",
      "Epoch 46/200\n",
      "1000/1000 [==============================] - 0s 33us/step - loss: 2.2897 - acc: 0.1210\n",
      "Epoch 47/200\n",
      "1000/1000 [==============================] - 0s 33us/step - loss: 2.2868 - acc: 0.1330\n",
      "Epoch 48/200\n",
      "1000/1000 [==============================] - 0s 34us/step - loss: 2.2862 - acc: 0.1270\n",
      "Epoch 49/200\n",
      "1000/1000 [==============================] - 0s 32us/step - loss: 2.2891 - acc: 0.1400\n",
      "Epoch 50/200\n",
      "1000/1000 [==============================] - 0s 33us/step - loss: 2.2867 - acc: 0.1370\n",
      "Epoch 51/200\n",
      "1000/1000 [==============================] - ETA: 0s - loss: 2.2896 - acc: 0.125 - 0s 35us/step - loss: 2.2819 - acc: 0.1210\n",
      "Epoch 52/200\n",
      "1000/1000 [==============================] - 0s 35us/step - loss: 2.2880 - acc: 0.1370\n",
      "Epoch 53/200\n",
      "1000/1000 [==============================] - 0s 33us/step - loss: 2.2837 - acc: 0.1250\n",
      "Epoch 54/200\n",
      "1000/1000 [==============================] - 0s 34us/step - loss: 2.2876 - acc: 0.1210\n",
      "Epoch 55/200\n",
      "1000/1000 [==============================] - 0s 35us/step - loss: 2.2854 - acc: 0.1310\n",
      "Epoch 56/200\n",
      "1000/1000 [==============================] - 0s 35us/step - loss: 2.2855 - acc: 0.1250\n",
      "Epoch 57/200\n",
      "1000/1000 [==============================] - 0s 34us/step - loss: 2.2894 - acc: 0.1350\n",
      "Epoch 58/200\n",
      "1000/1000 [==============================] - 0s 35us/step - loss: 2.2803 - acc: 0.1580\n",
      "Epoch 59/200\n",
      "1000/1000 [==============================] - 0s 35us/step - loss: 2.2849 - acc: 0.1420\n",
      "Epoch 60/200\n",
      "1000/1000 [==============================] - 0s 34us/step - loss: 2.2848 - acc: 0.1300\n",
      "Epoch 61/200\n",
      "1000/1000 [==============================] - 0s 33us/step - loss: 2.2850 - acc: 0.1310\n",
      "Epoch 62/200\n",
      "1000/1000 [==============================] - 0s 35us/step - loss: 2.2892 - acc: 0.1160\n",
      "Epoch 63/200\n",
      "1000/1000 [==============================] - 0s 33us/step - loss: 2.2789 - acc: 0.1350\n",
      "Epoch 64/200\n",
      "1000/1000 [==============================] - 0s 33us/step - loss: 2.2874 - acc: 0.1460\n",
      "Epoch 65/200\n",
      "1000/1000 [==============================] - 0s 34us/step - loss: 2.2782 - acc: 0.1510\n",
      "Epoch 66/200\n",
      "1000/1000 [==============================] - 0s 32us/step - loss: 2.2882 - acc: 0.1360\n",
      "Epoch 67/200\n",
      "1000/1000 [==============================] - 0s 33us/step - loss: 2.2799 - acc: 0.1330\n",
      "Epoch 68/200\n",
      "1000/1000 [==============================] - 0s 34us/step - loss: 2.2811 - acc: 0.1310\n",
      "Epoch 69/200\n",
      "1000/1000 [==============================] - 0s 33us/step - loss: 2.2800 - acc: 0.1470\n",
      "Epoch 70/200\n",
      "1000/1000 [==============================] - 0s 33us/step - loss: 2.2826 - acc: 0.1390\n",
      "Epoch 71/200\n",
      "1000/1000 [==============================] - 0s 34us/step - loss: 2.2790 - acc: 0.1320\n",
      "Epoch 72/200\n",
      "1000/1000 [==============================] - 0s 33us/step - loss: 2.2815 - acc: 0.1440\n",
      "Epoch 73/200\n",
      "1000/1000 [==============================] - 0s 32us/step - loss: 2.2762 - acc: 0.1530\n",
      "Epoch 74/200\n",
      "1000/1000 [==============================] - 0s 33us/step - loss: 2.2781 - acc: 0.1460\n",
      "Epoch 75/200\n",
      "1000/1000 [==============================] - 0s 33us/step - loss: 2.2820 - acc: 0.1310\n",
      "Epoch 76/200\n",
      "1000/1000 [==============================] - 0s 35us/step - loss: 2.2774 - acc: 0.1570\n",
      "Epoch 77/200\n",
      "1000/1000 [==============================] - 0s 34us/step - loss: 2.2825 - acc: 0.1350\n",
      "Epoch 78/200\n",
      "1000/1000 [==============================] - 0s 33us/step - loss: 2.2870 - acc: 0.1320\n"
     ]
    },
    {
     "name": "stdout",
     "output_type": "stream",
     "text": [
      "Epoch 79/200\n",
      "1000/1000 [==============================] - 0s 33us/step - loss: 2.2807 - acc: 0.1370\n",
      "Epoch 80/200\n",
      "1000/1000 [==============================] - 0s 34us/step - loss: 2.2814 - acc: 0.1400\n",
      "Epoch 81/200\n",
      "1000/1000 [==============================] - 0s 39us/step - loss: 2.2804 - acc: 0.1220\n",
      "Epoch 82/200\n",
      "1000/1000 [==============================] - 0s 35us/step - loss: 2.2749 - acc: 0.1410\n",
      "Epoch 83/200\n",
      "1000/1000 [==============================] - 0s 41us/step - loss: 2.2837 - acc: 0.1370\n",
      "Epoch 84/200\n",
      "1000/1000 [==============================] - 0s 37us/step - loss: 2.2773 - acc: 0.1370\n",
      "Epoch 85/200\n",
      "1000/1000 [==============================] - 0s 42us/step - loss: 2.2784 - acc: 0.1400\n",
      "Epoch 86/200\n",
      "1000/1000 [==============================] - 0s 38us/step - loss: 2.2813 - acc: 0.1420\n",
      "Epoch 87/200\n",
      "1000/1000 [==============================] - 0s 39us/step - loss: 2.2749 - acc: 0.1540\n",
      "Epoch 88/200\n",
      "1000/1000 [==============================] - 0s 40us/step - loss: 2.2794 - acc: 0.1430\n",
      "Epoch 89/200\n",
      "1000/1000 [==============================] - 0s 35us/step - loss: 2.2785 - acc: 0.1400\n",
      "Epoch 90/200\n",
      "1000/1000 [==============================] - 0s 39us/step - loss: 2.2736 - acc: 0.1530\n",
      "Epoch 91/200\n",
      "1000/1000 [==============================] - 0s 37us/step - loss: 2.2795 - acc: 0.1380\n",
      "Epoch 92/200\n",
      "1000/1000 [==============================] - 0s 38us/step - loss: 2.2696 - acc: 0.1450\n",
      "Epoch 93/200\n",
      "1000/1000 [==============================] - 0s 39us/step - loss: 2.2699 - acc: 0.1610\n",
      "Epoch 94/200\n",
      "1000/1000 [==============================] - 0s 37us/step - loss: 2.2783 - acc: 0.1470\n",
      "Epoch 95/200\n",
      "1000/1000 [==============================] - 0s 38us/step - loss: 2.2729 - acc: 0.1470\n",
      "Epoch 96/200\n",
      "1000/1000 [==============================] - 0s 33us/step - loss: 2.2799 - acc: 0.1510\n",
      "Epoch 97/200\n",
      "1000/1000 [==============================] - 0s 36us/step - loss: 2.2838 - acc: 0.1350\n",
      "Epoch 98/200\n",
      "1000/1000 [==============================] - 0s 35us/step - loss: 2.2820 - acc: 0.1320\n",
      "Epoch 99/200\n",
      "1000/1000 [==============================] - 0s 38us/step - loss: 2.2794 - acc: 0.1330\n",
      "Epoch 100/200\n",
      "1000/1000 [==============================] - 0s 34us/step - loss: 2.2755 - acc: 0.1300\n",
      "Epoch 101/200\n",
      "1000/1000 [==============================] - 0s 35us/step - loss: 2.2685 - acc: 0.1470\n",
      "Epoch 102/200\n",
      "1000/1000 [==============================] - 0s 40us/step - loss: 2.2684 - acc: 0.1560\n",
      "Epoch 103/200\n",
      "1000/1000 [==============================] - 0s 36us/step - loss: 2.2734 - acc: 0.1540\n",
      "Epoch 104/200\n",
      "1000/1000 [==============================] - 0s 42us/step - loss: 2.2671 - acc: 0.1420\n",
      "Epoch 105/200\n",
      "1000/1000 [==============================] - 0s 38us/step - loss: 2.2618 - acc: 0.1610\n",
      "Epoch 106/200\n",
      "1000/1000 [==============================] - 0s 35us/step - loss: 2.2753 - acc: 0.1360\n",
      "Epoch 107/200\n",
      "1000/1000 [==============================] - 0s 40us/step - loss: 2.2682 - acc: 0.1540\n",
      "Epoch 108/200\n",
      "1000/1000 [==============================] - 0s 37us/step - loss: 2.2700 - acc: 0.1540\n",
      "Epoch 109/200\n",
      "1000/1000 [==============================] - 0s 37us/step - loss: 2.2646 - acc: 0.1470\n",
      "Epoch 110/200\n",
      "1000/1000 [==============================] - 0s 37us/step - loss: 2.2795 - acc: 0.1360\n",
      "Epoch 111/200\n",
      "1000/1000 [==============================] - 0s 38us/step - loss: 2.2728 - acc: 0.1350\n",
      "Epoch 112/200\n",
      "1000/1000 [==============================] - 0s 39us/step - loss: 2.2595 - acc: 0.1540\n",
      "Epoch 113/200\n",
      "1000/1000 [==============================] - 0s 34us/step - loss: 2.2668 - acc: 0.1480\n",
      "Epoch 114/200\n",
      "1000/1000 [==============================] - 0s 35us/step - loss: 2.2714 - acc: 0.1410\n",
      "Epoch 115/200\n",
      "1000/1000 [==============================] - 0s 36us/step - loss: 2.2722 - acc: 0.1500\n",
      "Epoch 116/200\n",
      "1000/1000 [==============================] - 0s 35us/step - loss: 2.2698 - acc: 0.1600\n",
      "Epoch 117/200\n",
      "1000/1000 [==============================] - 0s 39us/step - loss: 2.2737 - acc: 0.1280\n",
      "Epoch 118/200\n",
      "1000/1000 [==============================] - 0s 33us/step - loss: 2.2659 - acc: 0.1400\n",
      "Epoch 119/200\n",
      "1000/1000 [==============================] - 0s 34us/step - loss: 2.2690 - acc: 0.1310\n",
      "Epoch 120/200\n",
      "1000/1000 [==============================] - 0s 36us/step - loss: 2.2696 - acc: 0.1400\n",
      "Epoch 121/200\n",
      "1000/1000 [==============================] - 0s 36us/step - loss: 2.2571 - acc: 0.1490\n",
      "Epoch 122/200\n",
      "1000/1000 [==============================] - 0s 37us/step - loss: 2.2578 - acc: 0.1470\n",
      "Epoch 123/200\n",
      "1000/1000 [==============================] - 0s 33us/step - loss: 2.2641 - acc: 0.1490\n",
      "Epoch 124/200\n",
      "1000/1000 [==============================] - 0s 37us/step - loss: 2.2599 - acc: 0.1580\n",
      "Epoch 125/200\n",
      "1000/1000 [==============================] - 0s 32us/step - loss: 2.2671 - acc: 0.1410\n",
      "Epoch 126/200\n",
      "1000/1000 [==============================] - 0s 32us/step - loss: 2.2707 - acc: 0.1410\n",
      "Epoch 127/200\n",
      "1000/1000 [==============================] - 0s 33us/step - loss: 2.2642 - acc: 0.1510\n",
      "Epoch 128/200\n",
      "1000/1000 [==============================] - 0s 37us/step - loss: 2.2665 - acc: 0.1520\n",
      "Epoch 129/200\n",
      "1000/1000 [==============================] - 0s 33us/step - loss: 2.2526 - acc: 0.1780\n",
      "Epoch 130/200\n",
      "1000/1000 [==============================] - 0s 36us/step - loss: 2.2761 - acc: 0.1340\n",
      "Epoch 131/200\n",
      "1000/1000 [==============================] - 0s 33us/step - loss: 2.2636 - acc: 0.1410\n",
      "Epoch 132/200\n",
      "1000/1000 [==============================] - 0s 33us/step - loss: 2.2679 - acc: 0.1570\n",
      "Epoch 133/200\n",
      "1000/1000 [==============================] - 0s 33us/step - loss: 2.2657 - acc: 0.1560\n",
      "Epoch 134/200\n",
      "1000/1000 [==============================] - 0s 33us/step - loss: 2.2704 - acc: 0.1550\n",
      "Epoch 135/200\n",
      "1000/1000 [==============================] - 0s 32us/step - loss: 2.2585 - acc: 0.1480\n",
      "Epoch 136/200\n",
      "1000/1000 [==============================] - 0s 33us/step - loss: 2.2694 - acc: 0.1490\n",
      "Epoch 137/200\n",
      "1000/1000 [==============================] - 0s 33us/step - loss: 2.2612 - acc: 0.1450\n",
      "Epoch 138/200\n",
      "1000/1000 [==============================] - 0s 33us/step - loss: 2.2632 - acc: 0.1470\n",
      "Epoch 139/200\n",
      "1000/1000 [==============================] - 0s 35us/step - loss: 2.2604 - acc: 0.1460\n",
      "Epoch 140/200\n",
      "1000/1000 [==============================] - 0s 35us/step - loss: 2.2586 - acc: 0.1480\n",
      "Epoch 141/200\n",
      "1000/1000 [==============================] - 0s 33us/step - loss: 2.2551 - acc: 0.1570\n",
      "Epoch 142/200\n",
      "1000/1000 [==============================] - 0s 35us/step - loss: 2.2597 - acc: 0.1550\n",
      "Epoch 143/200\n",
      "1000/1000 [==============================] - 0s 34us/step - loss: 2.2532 - acc: 0.1730\n",
      "Epoch 144/200\n",
      "1000/1000 [==============================] - 0s 32us/step - loss: 2.2694 - acc: 0.1490\n",
      "Epoch 145/200\n",
      "1000/1000 [==============================] - 0s 32us/step - loss: 2.2560 - acc: 0.1680\n",
      "Epoch 146/200\n",
      "1000/1000 [==============================] - 0s 34us/step - loss: 2.2596 - acc: 0.1600\n",
      "Epoch 147/200\n",
      "1000/1000 [==============================] - 0s 32us/step - loss: 2.2590 - acc: 0.1380\n",
      "Epoch 148/200\n",
      "1000/1000 [==============================] - 0s 34us/step - loss: 2.2597 - acc: 0.1500\n",
      "Epoch 149/200\n",
      "1000/1000 [==============================] - 0s 33us/step - loss: 2.2577 - acc: 0.1690\n",
      "Epoch 150/200\n",
      "1000/1000 [==============================] - 0s 32us/step - loss: 2.2579 - acc: 0.1420\n",
      "Epoch 151/200\n",
      "1000/1000 [==============================] - 0s 32us/step - loss: 2.2535 - acc: 0.1670\n",
      "Epoch 152/200\n",
      "1000/1000 [==============================] - 0s 33us/step - loss: 2.2609 - acc: 0.1520\n",
      "Epoch 153/200\n",
      "1000/1000 [==============================] - 0s 34us/step - loss: 2.2583 - acc: 0.1600\n",
      "Epoch 154/200\n",
      "1000/1000 [==============================] - 0s 32us/step - loss: 2.2517 - acc: 0.1530\n",
      "Epoch 155/200\n",
      "1000/1000 [==============================] - 0s 34us/step - loss: 2.2546 - acc: 0.1610\n",
      "Epoch 156/200\n",
      "1000/1000 [==============================] - 0s 31us/step - loss: 2.2582 - acc: 0.1610\n",
      "Epoch 157/200\n",
      "1000/1000 [==============================] - 0s 33us/step - loss: 2.2565 - acc: 0.1610\n",
      "Epoch 158/200\n",
      "1000/1000 [==============================] - 0s 37us/step - loss: 2.2541 - acc: 0.1660\n",
      "Epoch 159/200\n",
      "1000/1000 [==============================] - 0s 34us/step - loss: 2.2505 - acc: 0.1690\n",
      "Epoch 160/200\n"
     ]
    },
    {
     "name": "stdout",
     "output_type": "stream",
     "text": [
      "1000/1000 [==============================] - 0s 33us/step - loss: 2.2438 - acc: 0.1670\n",
      "Epoch 161/200\n",
      "1000/1000 [==============================] - 0s 33us/step - loss: 2.2468 - acc: 0.1740\n",
      "Epoch 162/200\n",
      "1000/1000 [==============================] - 0s 33us/step - loss: 2.2630 - acc: 0.1700\n",
      "Epoch 163/200\n",
      "1000/1000 [==============================] - 0s 40us/step - loss: 2.2552 - acc: 0.1610\n",
      "Epoch 164/200\n",
      "1000/1000 [==============================] - 0s 37us/step - loss: 2.2547 - acc: 0.1500\n",
      "Epoch 165/200\n",
      "1000/1000 [==============================] - 0s 39us/step - loss: 2.2564 - acc: 0.1620\n",
      "Epoch 166/200\n",
      "1000/1000 [==============================] - 0s 39us/step - loss: 2.2550 - acc: 0.1600\n",
      "Epoch 167/200\n",
      "1000/1000 [==============================] - 0s 35us/step - loss: 2.2490 - acc: 0.1710\n",
      "Epoch 168/200\n",
      "1000/1000 [==============================] - 0s 39us/step - loss: 2.2581 - acc: 0.1550\n",
      "Epoch 169/200\n",
      "1000/1000 [==============================] - 0s 31us/step - loss: 2.2593 - acc: 0.1520\n",
      "Epoch 170/200\n",
      "1000/1000 [==============================] - 0s 38us/step - loss: 2.2444 - acc: 0.1610\n",
      "Epoch 171/200\n",
      "1000/1000 [==============================] - 0s 35us/step - loss: 2.2508 - acc: 0.1660\n",
      "Epoch 172/200\n",
      "1000/1000 [==============================] - 0s 39us/step - loss: 2.2446 - acc: 0.1720\n",
      "Epoch 173/200\n",
      "1000/1000 [==============================] - 0s 34us/step - loss: 2.2498 - acc: 0.1800\n",
      "Epoch 174/200\n",
      "1000/1000 [==============================] - 0s 39us/step - loss: 2.2487 - acc: 0.1670\n",
      "Epoch 175/200\n",
      "1000/1000 [==============================] - 0s 34us/step - loss: 2.2442 - acc: 0.1400\n",
      "Epoch 176/200\n",
      "1000/1000 [==============================] - 0s 36us/step - loss: 2.2425 - acc: 0.1590\n",
      "Epoch 177/200\n",
      "1000/1000 [==============================] - 0s 36us/step - loss: 2.2391 - acc: 0.1760\n",
      "Epoch 178/200\n",
      "1000/1000 [==============================] - 0s 38us/step - loss: 2.2496 - acc: 0.1530\n",
      "Epoch 179/200\n",
      "1000/1000 [==============================] - 0s 37us/step - loss: 2.2386 - acc: 0.1700\n",
      "Epoch 180/200\n",
      "1000/1000 [==============================] - 0s 36us/step - loss: 2.2562 - acc: 0.1510\n",
      "Epoch 181/200\n",
      "1000/1000 [==============================] - 0s 42us/step - loss: 2.2438 - acc: 0.1650\n",
      "Epoch 182/200\n",
      "1000/1000 [==============================] - 0s 37us/step - loss: 2.2346 - acc: 0.1770\n",
      "Epoch 183/200\n",
      "1000/1000 [==============================] - 0s 36us/step - loss: 2.2391 - acc: 0.1620\n",
      "Epoch 184/200\n",
      "1000/1000 [==============================] - 0s 38us/step - loss: 2.2413 - acc: 0.1560\n",
      "Epoch 185/200\n",
      "1000/1000 [==============================] - 0s 40us/step - loss: 2.2332 - acc: 0.1770\n",
      "Epoch 186/200\n",
      "1000/1000 [==============================] - 0s 38us/step - loss: 2.2421 - acc: 0.1660\n",
      "Epoch 187/200\n",
      "1000/1000 [==============================] - 0s 33us/step - loss: 2.2436 - acc: 0.1670\n",
      "Epoch 188/200\n",
      "1000/1000 [==============================] - 0s 35us/step - loss: 2.2463 - acc: 0.1680\n",
      "Epoch 189/200\n",
      "1000/1000 [==============================] - 0s 35us/step - loss: 2.2505 - acc: 0.1670\n",
      "Epoch 190/200\n",
      "1000/1000 [==============================] - 0s 39us/step - loss: 2.2320 - acc: 0.1730\n",
      "Epoch 191/200\n",
      "1000/1000 [==============================] - 0s 35us/step - loss: 2.2479 - acc: 0.1480\n",
      "Epoch 192/200\n",
      "1000/1000 [==============================] - 0s 33us/step - loss: 2.2467 - acc: 0.1640\n",
      "Epoch 193/200\n",
      "1000/1000 [==============================] - 0s 33us/step - loss: 2.2329 - acc: 0.1830\n",
      "Epoch 194/200\n",
      "1000/1000 [==============================] - 0s 35us/step - loss: 2.2392 - acc: 0.1700\n",
      "Epoch 195/200\n",
      "1000/1000 [==============================] - 0s 32us/step - loss: 2.2316 - acc: 0.1780\n",
      "Epoch 196/200\n",
      "1000/1000 [==============================] - 0s 38us/step - loss: 2.2429 - acc: 0.1710\n",
      "Epoch 197/200\n",
      "1000/1000 [==============================] - 0s 39us/step - loss: 2.2378 - acc: 0.1830\n",
      "Epoch 198/200\n",
      "1000/1000 [==============================] - 0s 33us/step - loss: 2.2431 - acc: 0.1610\n",
      "Epoch 199/200\n",
      "1000/1000 [==============================] - 0s 39us/step - loss: 2.2377 - acc: 0.1740\n",
      "Epoch 200/200\n",
      "1000/1000 [==============================] - 0s 37us/step - loss: 2.2353 - acc: 0.1710\n",
      "100/100 [==============================] - 0s 2ms/step\n"
     ]
    }
   ],
   "source": [
    "model = Sequential()\n",
    "model.add(Dense(64, activation='relu', input_dim = 20))\n",
    "model.add(Dropout(0.5))\n",
    "model.add(Dense(64, activation='relu'))\n",
    "model.add(Dropout(0.5))\n",
    "model.add(Dense(10, activation='softmax'))\n",
    "\n",
    "sgd = SGD(lr = 0.01, decay = 1e-6, momentum = 0.9, nesterov = True)\n",
    "model.compile(loss = 'categorical_crossentropy',\n",
    "             optimizer = sgd,\n",
    "             metrics = ['accuracy'])\n",
    "\n",
    "model.fit(x_train, y_train,\n",
    "         epochs = 200,\n",
    "         batch_size=128)\n",
    "\n",
    "score = model.evaluate(x_test, y_test, batch_size=128)"
   ]
  },
  {
   "cell_type": "code",
   "execution_count": 14,
   "metadata": {},
   "outputs": [
    {
     "name": "stdout",
     "output_type": "stream",
     "text": [
      "[2.3161683082580566, 0.09000000357627869]\n"
     ]
    }
   ],
   "source": [
    "print(score)"
   ]
  },
  {
   "cell_type": "markdown",
   "metadata": {},
   "source": [
    "### case 2: MLP for binary classification"
   ]
  },
  {
   "cell_type": "code",
   "execution_count": 15,
   "metadata": {},
   "outputs": [
    {
     "name": "stdout",
     "output_type": "stream",
     "text": [
      "(1000, 20) (1000, 1)\n"
     ]
    }
   ],
   "source": [
    "import numpy as np\n",
    "from keras.models import Sequential\n",
    "from keras.layers import Dense, Dropout\n",
    "\n",
    "x_train = np.random.random((1000, 20))\n",
    "y_train = np.random.randint(2, size = (1000, 1))\n",
    "x_test = np.random.random((100, 20))\n",
    "y_test = np.random.randint(2, size = (100, 1))\n",
    "print(x_train.shape, y_train.shape)"
   ]
  },
  {
   "cell_type": "code",
   "execution_count": 16,
   "metadata": {},
   "outputs": [
    {
     "name": "stdout",
     "output_type": "stream",
     "text": [
      "Epoch 1/20\n",
      "1000/1000 [==============================] - 1s 721us/step - loss: 0.7189 - acc: 0.4960\n",
      "Epoch 2/20\n",
      "1000/1000 [==============================] - 0s 32us/step - loss: 0.7083 - acc: 0.4810\n",
      "Epoch 3/20\n",
      "1000/1000 [==============================] - 0s 35us/step - loss: 0.7046 - acc: 0.5060\n",
      "Epoch 4/20\n",
      "1000/1000 [==============================] - 0s 28us/step - loss: 0.7042 - acc: 0.4990\n",
      "Epoch 5/20\n",
      "1000/1000 [==============================] - 0s 28us/step - loss: 0.7020 - acc: 0.4940\n",
      "Epoch 6/20\n",
      "1000/1000 [==============================] - 0s 30us/step - loss: 0.6986 - acc: 0.5090\n",
      "Epoch 7/20\n",
      "1000/1000 [==============================] - 0s 36us/step - loss: 0.6935 - acc: 0.5380\n",
      "Epoch 8/20\n",
      "1000/1000 [==============================] - 0s 32us/step - loss: 0.7023 - acc: 0.4950\n",
      "Epoch 9/20\n",
      "1000/1000 [==============================] - 0s 36us/step - loss: 0.6900 - acc: 0.5200\n",
      "Epoch 10/20\n",
      "1000/1000 [==============================] - 0s 32us/step - loss: 0.6956 - acc: 0.5060\n",
      "Epoch 11/20\n",
      "1000/1000 [==============================] - 0s 32us/step - loss: 0.6912 - acc: 0.5490\n",
      "Epoch 12/20\n",
      "1000/1000 [==============================] - 0s 32us/step - loss: 0.6917 - acc: 0.5250\n",
      "Epoch 13/20\n",
      "1000/1000 [==============================] - 0s 33us/step - loss: 0.7008 - acc: 0.4900\n",
      "Epoch 14/20\n",
      "1000/1000 [==============================] - 0s 33us/step - loss: 0.6930 - acc: 0.5450\n",
      "Epoch 15/20\n",
      "1000/1000 [==============================] - 0s 40us/step - loss: 0.6925 - acc: 0.5290\n",
      "Epoch 16/20\n",
      "1000/1000 [==============================] - 0s 38us/step - loss: 0.6928 - acc: 0.5140\n",
      "Epoch 17/20\n",
      "1000/1000 [==============================] - 0s 31us/step - loss: 0.6998 - acc: 0.5040\n",
      "Epoch 18/20\n",
      "1000/1000 [==============================] - 0s 32us/step - loss: 0.6901 - acc: 0.5440\n",
      "Epoch 19/20\n",
      "1000/1000 [==============================] - 0s 40us/step - loss: 0.6952 - acc: 0.5060\n",
      "Epoch 20/20\n",
      "1000/1000 [==============================] - 0s 40us/step - loss: 0.6921 - acc: 0.5220\n",
      "100/100 [==============================] - 0s 3ms/step\n"
     ]
    }
   ],
   "source": [
    "model = Sequential()\n",
    "model.add(Dense(64, input_dim = 20, activation='relu'))\n",
    "model.add(Dropout(0.5))\n",
    "model.add(Dense(64, activation='relu'))\n",
    "model.add(Dropout(0.5))\n",
    "model.add(Dense(1, activation = 'sigmoid'))\n",
    "\n",
    "model.compile(loss = 'binary_crossentropy',\n",
    "             optimizer = 'rmsprop',\n",
    "             metrics = ['accuracy'])\n",
    "\n",
    "model.fit(x_train, y_train,\n",
    "         epochs = 20,\n",
    "         batch_size = 128)\n",
    "\n",
    "score = model.evaluate(x_test, y_test, batch_size = 128)"
   ]
  },
  {
   "cell_type": "markdown",
   "metadata": {},
   "source": [
    "### CNN\n",
    "a typical structure:\n",
    "\n",
    "\n",
    "input-> conv -> relu -> conv -> relu  -> pool -> relu -> conv -> relu -> pool -> fully connected"
   ]
  },
  {
   "cell_type": "code",
   "execution_count": 17,
   "metadata": {},
   "outputs": [],
   "source": [
    "import numpy as np\n",
    "import keras\n",
    "from keras.models import Sequential\n",
    "from keras.layers import Dense, Dropout, Flatten\n",
    "from keras.layers import Conv2D, MaxPooling2D\n",
    "from keras.optimizers import SGD"
   ]
  },
  {
   "cell_type": "code",
   "execution_count": 18,
   "metadata": {},
   "outputs": [],
   "source": [
    "# Generate dummy data\n",
    "x_train = np.random.random((100, 100, 100, 3))\n",
    "y_train = keras.utils.to_categorical(np.random.randint(10, size = (100, 1)), num_classes=10)\n",
    "x_test = np.random.random((20, 100, 100, 3))\n",
    "y_test = keras.utils.to_categorical(np.random.randint(10, size = (20, 1)), num_classes=10)"
   ]
  },
  {
   "cell_type": "code",
   "execution_count": 19,
   "metadata": {},
   "outputs": [
    {
     "name": "stdout",
     "output_type": "stream",
     "text": [
      "Epoch 1/10\n",
      "100/100 [==============================] - 3s 31ms/step - loss: 2.4099\n",
      "Epoch 2/10\n",
      "100/100 [==============================] - 2s 20ms/step - loss: 2.2930\n",
      "Epoch 3/10\n",
      "100/100 [==============================] - 2s 19ms/step - loss: 2.3199\n",
      "Epoch 4/10\n",
      "100/100 [==============================] - 2s 18ms/step - loss: 2.3186\n",
      "Epoch 5/10\n",
      "100/100 [==============================] - 2s 18ms/step - loss: 2.3055\n",
      "Epoch 6/10\n",
      "100/100 [==============================] - 2s 18ms/step - loss: 2.3178\n",
      "Epoch 7/10\n",
      "100/100 [==============================] - 2s 21ms/step - loss: 2.3031\n",
      "Epoch 8/10\n",
      "100/100 [==============================] - 2s 18ms/step - loss: 2.2983\n",
      "Epoch 9/10\n",
      "100/100 [==============================] - 2s 18ms/step - loss: 2.3023\n",
      "Epoch 10/10\n",
      "100/100 [==============================] - 2s 17ms/step - loss: 2.3088\n",
      "20/20 [==============================] - 0s 16ms/step\n"
     ]
    }
   ],
   "source": [
    "model = Sequential()\n",
    "# input: 100 x 100 images with 3 channels -> (100, 100, 3) tensors\n",
    "# this applies 32 vonvolution filters of size 3 x 3 each\n",
    "model.add(Conv2D(32, (3, 3), activation = 'relu', input_shape = (100, 100, 3)))\n",
    "model.add(Conv2D(32, (3, 3), activation = 'relu'))\n",
    "model.add(MaxPooling2D(pool_size = (2, 2)))\n",
    "model.add(Dropout(0.25))\n",
    "\n",
    "model.add(Conv2D(64, (3, 3), activation='relu'))\n",
    "model.add(Conv2D(64, (3, 3), activation='relu'))\n",
    "model.add(MaxPooling2D(pool_size = (2, 2)))\n",
    "model.add(Dropout(0.25))\n",
    "\n",
    "model.add(Flatten())\n",
    "model.add(Dense(256, activation='relu'))\n",
    "model.add(Dropout(0.5))\n",
    "model.add(Dense(10, activation='softmax'))\n",
    "\n",
    "sgd = SGD(lr = 0.01, decay=1e-6, momentum = 0.9, nesterov=True)\n",
    "model.compile(loss = 'categorical_crossentropy', optimizer = sgd)\n",
    "\n",
    "model.fit(x_train, y_train, batch_size=32, epochs = 10)\n",
    "score = model.evaluate(x_test, y_test, batch_size=32)"
   ]
  },
  {
   "cell_type": "markdown",
   "metadata": {},
   "source": [
    "### Sequence classification with LSTM"
   ]
  },
  {
   "cell_type": "code",
   "execution_count": 20,
   "metadata": {},
   "outputs": [],
   "source": [
    "from keras.models import Sequential\n",
    "from keras.layers import Dense, Dropout\n",
    "from keras.layers import Embedding\n",
    "from keras.layers import LSTM"
   ]
  },
  {
   "cell_type": "code",
   "execution_count": 23,
   "metadata": {},
   "outputs": [
    {
     "name": "stdout",
     "output_type": "stream",
     "text": [
      "Epoch 1/10\n",
      "100/100 [==============================] - 8s 77ms/step - loss: 0.6819 - acc: 0.5800\n",
      "Epoch 2/10\n",
      "100/100 [==============================] - 6s 62ms/step - loss: 0.6867 - acc: 0.6100\n",
      "Epoch 3/10\n",
      "100/100 [==============================] - 7s 68ms/step - loss: 0.6716 - acc: 0.6100\n",
      "Epoch 4/10\n",
      "100/100 [==============================] - 8s 78ms/step - loss: 0.6768 - acc: 0.6100\n",
      "Epoch 5/10\n",
      "100/100 [==============================] - 8s 84ms/step - loss: 0.6919 - acc: 0.6100\n",
      "Epoch 6/10\n",
      "100/100 [==============================] - 8s 81ms/step - loss: 0.6773 - acc: 0.6100\n",
      "Epoch 7/10\n",
      "100/100 [==============================] - 9s 88ms/step - loss: 0.6783 - acc: 0.6100\n",
      "Epoch 8/10\n",
      "100/100 [==============================] - 9s 89ms/step - loss: 0.6854 - acc: 0.6100\n",
      "Epoch 9/10\n",
      "100/100 [==============================] - 10s 97ms/step - loss: 0.6731 - acc: 0.6100\n",
      "Epoch 10/10\n",
      "100/100 [==============================] - 10s 103ms/step - loss: 0.6716 - acc: 0.6100\n",
      "10/10 [==============================] - 1s 69ms/step\n"
     ]
    }
   ],
   "source": [
    "max_feature = 1024\n",
    "\n",
    "x_train = np.random.random((100, max_feature))\n",
    "y_train = np.random.randint(2, size = (100, 1))\n",
    "x_test = np.random.random((10, max_feature))\n",
    "y_test = np.random.randint(2, size = (10, 1))\n",
    "\n",
    "model = Sequential()\n",
    "model.add(Embedding(max_feature, output_dim=256))\n",
    "model.add(LSTM(128))\n",
    "model.add(Dropout(0.5))\n",
    "model.add(Dense(1, activation='sigmoid'))\n",
    "\n",
    "model.compile(loss = 'binary_crossentropy',\n",
    "             optimizer = 'rmsprop',\n",
    "             metrics = ['accuracy'])\n",
    "\n",
    "model.fit(x_train, y_train, batch_size=16, epochs=10)\n",
    "score = model.evaluate(x_test, y_test, batch_size=16)"
   ]
  },
  {
   "cell_type": "markdown",
   "metadata": {},
   "source": [
    "### Sequence classification with 1D convolutions"
   ]
  },
  {
   "cell_type": "code",
   "execution_count": 29,
   "metadata": {},
   "outputs": [
    {
     "name": "stdout",
     "output_type": "stream",
     "text": [
      "_________________________________________________________________\n",
      "Layer (type)                 Output Shape              Param #   \n",
      "=================================================================\n",
      "conv1d_17 (Conv1D)           (None, 62, 64)            19264     \n",
      "_________________________________________________________________\n",
      "conv1d_18 (Conv1D)           (None, 60, 64)            12352     \n",
      "_________________________________________________________________\n",
      "max_pooling1d_5 (MaxPooling1 (None, 20, 64)            0         \n",
      "_________________________________________________________________\n",
      "conv1d_19 (Conv1D)           (None, 18, 128)           24704     \n",
      "_________________________________________________________________\n",
      "conv1d_20 (Conv1D)           (None, 16, 128)           49280     \n",
      "_________________________________________________________________\n",
      "global_average_pooling1d_5 ( (None, 128)               0         \n",
      "_________________________________________________________________\n",
      "dropout_15 (Dropout)         (None, 128)               0         \n",
      "_________________________________________________________________\n",
      "dense_25 (Dense)             (None, 1)                 129       \n",
      "=================================================================\n",
      "Total params: 105,729\n",
      "Trainable params: 105,729\n",
      "Non-trainable params: 0\n",
      "_________________________________________________________________\n",
      "Epoch 1/10\n",
      "100/100 [==============================] - 1s 11ms/step - loss: 0.7121 - acc: 0.5200\n",
      "Epoch 2/10\n",
      "100/100 [==============================] - 0s 698us/step - loss: 0.7044 - acc: 0.5600\n",
      "Epoch 3/10\n",
      "100/100 [==============================] - 0s 728us/step - loss: 0.6800 - acc: 0.5900\n",
      "Epoch 4/10\n",
      "100/100 [==============================] - 0s 718us/step - loss: 0.6877 - acc: 0.5500\n",
      "Epoch 5/10\n",
      "100/100 [==============================] - 0s 638us/step - loss: 0.6919 - acc: 0.5900\n",
      "Epoch 6/10\n",
      "100/100 [==============================] - 0s 628us/step - loss: 0.6965 - acc: 0.5600\n",
      "Epoch 7/10\n",
      "100/100 [==============================] - 0s 628us/step - loss: 0.6931 - acc: 0.5800\n",
      "Epoch 8/10\n",
      "100/100 [==============================] - 0s 578us/step - loss: 0.6927 - acc: 0.5900\n",
      "Epoch 9/10\n",
      "100/100 [==============================] - 0s 588us/step - loss: 0.6882 - acc: 0.5700\n",
      "Epoch 10/10\n",
      "100/100 [==============================] - 0s 638us/step - loss: 0.7047 - acc: 0.5800\n",
      "10/10 [==============================] - 0s 38ms/step\n"
     ]
    }
   ],
   "source": [
    "from keras.models import Sequential\n",
    "from keras.layers import Dense, Dropout, Embedding\n",
    "from keras.layers import Conv1D, GlobalAveragePooling1D, MaxPooling1D\n",
    "\n",
    "seq_length = 64\n",
    "\n",
    "x_train = np.random.random((100, seq_length, 100))\n",
    "y_train = np.random.randint(2, size = (100, 1))\n",
    "x_test = np.random.random((10, seq_length, 100))\n",
    "y_test = np.random.randint(2, size = (10, 1))\n",
    "\n",
    "model = Sequential()\n",
    "model.add(Conv1D(64, 3, activation = 'relu', input_shape = (seq_length, 100)))\n",
    "model.add(Conv1D(64, 3, activation = 'relu'))\n",
    "model.add(MaxPooling1D(3))\n",
    "model.add(Conv1D(128, 3, activation = 'relu'))\n",
    "model.add(Conv1D(128, 3, activation = 'relu'))\n",
    "model.add(GlobalAveragePooling1D())\n",
    "model.add(Dropout(0.5))\n",
    "model.add(Dense(1, activation='sigmoid'))\n",
    "\n",
    "model.summary()\n",
    "\n",
    "model.compile(loss = 'binary_crossentropy', optimizer='rmsprop', metrics = ['accuracy'])\n",
    "\n",
    "model.fit(x_train, y_train, batch_size=16, epochs = 10)\n",
    "score = model.evaluate(x_test, y_test, batch_size=16)"
   ]
  },
  {
   "cell_type": "markdown",
   "metadata": {},
   "source": [
    "### stacked LSTM for sequence classification"
   ]
  },
  {
   "cell_type": "code",
   "execution_count": 32,
   "metadata": {},
   "outputs": [
    {
     "name": "stdout",
     "output_type": "stream",
     "text": [
      "Train on 1000 samples, validate on 100 samples\n",
      "Epoch 1/5\n",
      "1000/1000 [==============================] - 4s 4ms/step - loss: 11.4859 - acc: 0.1070 - val_loss: 11.4183 - val_acc: 0.0700\n",
      "Epoch 2/5\n",
      "1000/1000 [==============================] - 0s 288us/step - loss: 11.4848 - acc: 0.1070 - val_loss: 11.4178 - val_acc: 0.1000\n",
      "Epoch 3/5\n",
      "1000/1000 [==============================] - 0s 386us/step - loss: 11.4837 - acc: 0.1080 - val_loss: 11.4179 - val_acc: 0.1100\n",
      "Epoch 4/5\n",
      "1000/1000 [==============================] - 0s 272us/step - loss: 11.4832 - acc: 0.0980 - val_loss: 11.4191 - val_acc: 0.1300\n",
      "Epoch 5/5\n",
      "1000/1000 [==============================] - 0s 299us/step - loss: 11.4819 - acc: 0.1190 - val_loss: 11.4177 - val_acc: 0.0900\n"
     ]
    },
    {
     "data": {
      "text/plain": [
       "<keras.callbacks.History at 0x22fd714dcf8>"
      ]
     },
     "execution_count": 32,
     "metadata": {},
     "output_type": "execute_result"
    }
   ],
   "source": [
    "from keras.models import Sequential\n",
    "from keras.layers import Dense, LSTM\n",
    "import numpy as np\n",
    "\n",
    "data_dim = 16\n",
    "timesteps = 8\n",
    "num_classes = 10\n",
    "\n",
    "# expected input data shape: (batch_size, timesteps, data_dim)\n",
    "model = Sequential()\n",
    "model.add(LSTM(32, return_sequences=True, input_shape = (timesteps, data_dim)))\n",
    "model.add(LSTM(32, return_sequences=True))\n",
    "model.add(LSTM(32))\n",
    "model.add(Dense(10, activation='softmax'))\n",
    "\n",
    "model.compile(loss = 'categorical_crossentropy', \n",
    "             optimizer = 'rmsprop',\n",
    "             metrics = ['accuracy'])\n",
    "\n",
    "x_train = np.random.random((1000, timesteps, data_dim))\n",
    "y_train = np.random.random((1000, num_classes))\n",
    "\n",
    "x_test = np.random.random((100, timesteps, data_dim))\n",
    "y_test = np.random.random((100, num_classes))\n",
    "\n",
    "model.fit(x_train, y_train, batch_size=64, epochs=5, validation_data=(x_test, y_test))"
   ]
  },
  {
   "cell_type": "markdown",
   "metadata": {},
   "source": [
    "### stateful stacked LSTM"
   ]
  },
  {
   "cell_type": "code",
   "execution_count": 41,
   "metadata": {},
   "outputs": [
    {
     "name": "stdout",
     "output_type": "stream",
     "text": [
      "Train on 320 samples, validate on 96 samples\n",
      "Epoch 1/5\n",
      "320/320 [==============================] - 3s 10ms/step - loss: 11.3413 - acc: 0.1000 - val_loss: 11.6232 - val_acc: 0.1146\n",
      "Epoch 2/5\n",
      "320/320 [==============================] - 0s 520us/step - loss: 11.3364 - acc: 0.1094 - val_loss: 11.6230 - val_acc: 0.1146\n",
      "Epoch 3/5\n",
      "320/320 [==============================] - 0s 446us/step - loss: 11.3354 - acc: 0.1062 - val_loss: 11.6229 - val_acc: 0.1146\n",
      "Epoch 4/5\n",
      "320/320 [==============================] - 0s 436us/step - loss: 11.3346 - acc: 0.1062 - val_loss: 11.6227 - val_acc: 0.1146\n",
      "Epoch 5/5\n",
      "320/320 [==============================] - 0s 449us/step - loss: 11.3338 - acc: 0.1125 - val_loss: 11.6226 - val_acc: 0.1146\n"
     ]
    },
    {
     "data": {
      "text/plain": [
       "<keras.callbacks.History at 0x22ff0ae09e8>"
      ]
     },
     "execution_count": 41,
     "metadata": {},
     "output_type": "execute_result"
    }
   ],
   "source": [
    "from keras.models import Sequential\n",
    "from keras.layers import Dense, LSTM\n",
    "import numpy as np\n",
    "\n",
    "data_dim = 16\n",
    "timesteps = 8\n",
    "num_classes = 10\n",
    "batch_size = 32\n",
    "\n",
    "# expected input data shape: (batch_size, timesteps, data_dim)\n",
    "model = Sequential()\n",
    "model.add(LSTM(32, return_sequences=True, stateful=True, batch_input_shape = (batch_size, timesteps, data_dim)))\n",
    "model.add(LSTM(32, return_sequences=True, stateful=True))\n",
    "model.add(LSTM(32, stateful=True))\n",
    "model.add(Dense(10, activation='softmax'))\n",
    "\n",
    "model.compile(loss = 'categorical_crossentropy', \n",
    "             optimizer = 'rmsprop',\n",
    "             metrics = ['accuracy'])\n",
    "\n",
    "x_train = np.random.random((batch_size*10, timesteps, data_dim))\n",
    "y_train = np.random.random((batch_size*10, num_classes))\n",
    "\n",
    "x_test = np.random.random((batch_size*3, timesteps, data_dim))\n",
    "y_test = np.random.random((batch_size*3, num_classes))\n",
    "\n",
    "model.fit(x_train, y_train, batch_size=batch_size, epochs=5,  shuffle = False, validation_data=(x_test, y_test))"
   ]
  },
  {
   "cell_type": "code",
   "execution_count": null,
   "metadata": {},
   "outputs": [],
   "source": []
  }
 ],
 "metadata": {
  "kernelspec": {
   "display_name": "Python 3",
   "language": "python",
   "name": "python3"
  },
  "language_info": {
   "codemirror_mode": {
    "name": "ipython",
    "version": 3
   },
   "file_extension": ".py",
   "mimetype": "text/x-python",
   "name": "python",
   "nbconvert_exporter": "python",
   "pygments_lexer": "ipython3",
   "version": "3.7.0"
  }
 },
 "nbformat": 4,
 "nbformat_minor": 2
}
