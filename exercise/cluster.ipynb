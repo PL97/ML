{
 "cells": [
  {
   "cell_type": "code",
   "execution_count": 1,
   "metadata": {},
   "outputs": [],
   "source": [
    "import pandas as pd\n",
    "import numpy as np\n",
    "from sklearn import datasets\n",
    "import matplotlib.pyplot as plt"
   ]
  },
  {
   "cell_type": "code",
   "execution_count": 2,
   "metadata": {},
   "outputs": [],
   "source": [
    "data = datasets.load_iris()\n",
    "D = pd.DataFrame(data.data)\n",
    "T = data.target\n",
    "\n",
    "D.columns = data.feature_names"
   ]
  },
  {
   "cell_type": "code",
   "execution_count": 3,
   "metadata": {},
   "outputs": [
    {
     "data": {
      "text/html": [
       "<div>\n",
       "<style scoped>\n",
       "    .dataframe tbody tr th:only-of-type {\n",
       "        vertical-align: middle;\n",
       "    }\n",
       "\n",
       "    .dataframe tbody tr th {\n",
       "        vertical-align: top;\n",
       "    }\n",
       "\n",
       "    .dataframe thead th {\n",
       "        text-align: right;\n",
       "    }\n",
       "</style>\n",
       "<table border=\"1\" class=\"dataframe\">\n",
       "  <thead>\n",
       "    <tr style=\"text-align: right;\">\n",
       "      <th></th>\n",
       "      <th>sepal length (cm)</th>\n",
       "      <th>sepal width (cm)</th>\n",
       "      <th>petal length (cm)</th>\n",
       "      <th>petal width (cm)</th>\n",
       "    </tr>\n",
       "  </thead>\n",
       "  <tbody>\n",
       "    <tr>\n",
       "      <th>0</th>\n",
       "      <td>5.1</td>\n",
       "      <td>3.5</td>\n",
       "      <td>1.4</td>\n",
       "      <td>0.2</td>\n",
       "    </tr>\n",
       "    <tr>\n",
       "      <th>1</th>\n",
       "      <td>4.9</td>\n",
       "      <td>3.0</td>\n",
       "      <td>1.4</td>\n",
       "      <td>0.2</td>\n",
       "    </tr>\n",
       "    <tr>\n",
       "      <th>2</th>\n",
       "      <td>4.7</td>\n",
       "      <td>3.2</td>\n",
       "      <td>1.3</td>\n",
       "      <td>0.2</td>\n",
       "    </tr>\n",
       "    <tr>\n",
       "      <th>3</th>\n",
       "      <td>4.6</td>\n",
       "      <td>3.1</td>\n",
       "      <td>1.5</td>\n",
       "      <td>0.2</td>\n",
       "    </tr>\n",
       "    <tr>\n",
       "      <th>4</th>\n",
       "      <td>5.0</td>\n",
       "      <td>3.6</td>\n",
       "      <td>1.4</td>\n",
       "      <td>0.2</td>\n",
       "    </tr>\n",
       "  </tbody>\n",
       "</table>\n",
       "</div>"
      ],
      "text/plain": [
       "   sepal length (cm)  sepal width (cm)  petal length (cm)  petal width (cm)\n",
       "0                5.1               3.5                1.4               0.2\n",
       "1                4.9               3.0                1.4               0.2\n",
       "2                4.7               3.2                1.3               0.2\n",
       "3                4.6               3.1                1.5               0.2\n",
       "4                5.0               3.6                1.4               0.2"
      ]
     },
     "execution_count": 3,
     "metadata": {},
     "output_type": "execute_result"
    }
   ],
   "source": [
    "D.head()"
   ]
  },
  {
   "cell_type": "code",
   "execution_count": 4,
   "metadata": {},
   "outputs": [],
   "source": [
    "def dis(c, x):\n",
    "    return sum(np.square(c-x))\n",
    "\n",
    "def classify(D, c):\n",
    "    classLabel = np.zeros((D.shape[0], 1))\n",
    "    for i in range(D.shape[0]):\n",
    "        classLabel[i] = np.argmin([dis(c[j], D.iloc[i, :]) for j in range(len(c))])\n",
    "    return np.array(classLabel)\n",
    "\n",
    "def k_means(D, k):\n",
    "    x = np.random.randint(D.shape[0], size = (1, 3))[0]\n",
    "    c = [D.iloc[x[i], :] for i in range(x.shape[0])]\n",
    "    pre_class = np.zeros((D.shape[0], 1))\n",
    "    post_class = np.ones((D.shape[0], 1))\n",
    "    while (pre_class != post_class).all():\n",
    "        pre_class = post_class\n",
    "        post_class = classify(D, c)\n",
    "        # update central point\n",
    "        for i in range(len(c)):\n",
    "            c[i] = np.mean(D[post_class == i], axis = 0)\n",
    "    return c"
   ]
  },
  {
   "cell_type": "code",
   "execution_count": 5,
   "metadata": {},
   "outputs": [],
   "source": [
    "x = np.random.randint(D.shape[0], size = (1, 3))[0]\n",
    "c = [D.iloc[x[i], :] for i in range(x.shape[0])]\n",
    "c = k_means(D, 3)\n",
    "result = classify(D, c)"
   ]
  },
  {
   "cell_type": "code",
   "execution_count": 6,
   "metadata": {},
   "outputs": [
    {
     "data": {
      "text/plain": [
       "array([[1.],\n",
       "       [1.],\n",
       "       [1.],\n",
       "       [1.],\n",
       "       [1.],\n",
       "       [2.],\n",
       "       [1.],\n",
       "       [1.],\n",
       "       [1.],\n",
       "       [1.],\n",
       "       [1.],\n",
       "       [1.],\n",
       "       [1.],\n",
       "       [1.],\n",
       "       [1.],\n",
       "       [2.],\n",
       "       [1.],\n",
       "       [1.],\n",
       "       [2.],\n",
       "       [1.],\n",
       "       [1.],\n",
       "       [1.],\n",
       "       [1.],\n",
       "       [1.],\n",
       "       [1.],\n",
       "       [1.],\n",
       "       [1.],\n",
       "       [1.],\n",
       "       [1.],\n",
       "       [1.],\n",
       "       [1.],\n",
       "       [1.],\n",
       "       [1.],\n",
       "       [1.],\n",
       "       [1.],\n",
       "       [1.],\n",
       "       [1.],\n",
       "       [1.],\n",
       "       [1.],\n",
       "       [1.],\n",
       "       [1.],\n",
       "       [1.],\n",
       "       [1.],\n",
       "       [1.],\n",
       "       [2.],\n",
       "       [1.],\n",
       "       [1.],\n",
       "       [1.],\n",
       "       [1.],\n",
       "       [1.],\n",
       "       [0.],\n",
       "       [0.],\n",
       "       [0.],\n",
       "       [0.],\n",
       "       [0.],\n",
       "       [0.],\n",
       "       [0.],\n",
       "       [2.],\n",
       "       [0.],\n",
       "       [2.],\n",
       "       [2.],\n",
       "       [0.],\n",
       "       [0.],\n",
       "       [0.],\n",
       "       [2.],\n",
       "       [0.],\n",
       "       [0.],\n",
       "       [0.],\n",
       "       [0.],\n",
       "       [0.],\n",
       "       [0.],\n",
       "       [0.],\n",
       "       [0.],\n",
       "       [0.],\n",
       "       [0.],\n",
       "       [0.],\n",
       "       [0.],\n",
       "       [0.],\n",
       "       [0.],\n",
       "       [2.],\n",
       "       [2.],\n",
       "       [2.],\n",
       "       [0.],\n",
       "       [0.],\n",
       "       [0.],\n",
       "       [0.],\n",
       "       [0.],\n",
       "       [0.],\n",
       "       [0.],\n",
       "       [0.],\n",
       "       [0.],\n",
       "       [0.],\n",
       "       [0.],\n",
       "       [2.],\n",
       "       [0.],\n",
       "       [0.],\n",
       "       [0.],\n",
       "       [0.],\n",
       "       [2.],\n",
       "       [0.],\n",
       "       [0.],\n",
       "       [0.],\n",
       "       [0.],\n",
       "       [0.],\n",
       "       [0.],\n",
       "       [0.],\n",
       "       [0.],\n",
       "       [0.],\n",
       "       [0.],\n",
       "       [0.],\n",
       "       [0.],\n",
       "       [0.],\n",
       "       [0.],\n",
       "       [0.],\n",
       "       [0.],\n",
       "       [0.],\n",
       "       [0.],\n",
       "       [0.],\n",
       "       [0.],\n",
       "       [0.],\n",
       "       [0.],\n",
       "       [0.],\n",
       "       [0.],\n",
       "       [0.],\n",
       "       [0.],\n",
       "       [0.],\n",
       "       [0.],\n",
       "       [0.],\n",
       "       [0.],\n",
       "       [0.],\n",
       "       [0.],\n",
       "       [0.],\n",
       "       [0.],\n",
       "       [0.],\n",
       "       [0.],\n",
       "       [0.],\n",
       "       [0.],\n",
       "       [0.],\n",
       "       [0.],\n",
       "       [0.],\n",
       "       [0.],\n",
       "       [0.],\n",
       "       [0.],\n",
       "       [0.],\n",
       "       [0.],\n",
       "       [0.],\n",
       "       [0.],\n",
       "       [0.],\n",
       "       [0.],\n",
       "       [0.]])"
      ]
     },
     "execution_count": 6,
     "metadata": {},
     "output_type": "execute_result"
    }
   ],
   "source": [
    "result"
   ]
  },
  {
   "cell_type": "code",
   "execution_count": 7,
   "metadata": {},
   "outputs": [
    {
     "name": "stdout",
     "output_type": "stream",
     "text": [
      "precision is :0.0\n"
     ]
    }
   ],
   "source": [
    "transform = {0:0, 1:1, 2:2}\n",
    "temp = np.array([transform[result[i][0]] == T[i] for i in range(T.shape[0])])\n",
    "print(\"precision is :{}\".format(np.where(temp == True)[0].shape[0]/T.shape[0]))"
   ]
  },
  {
   "cell_type": "markdown",
   "metadata": {},
   "source": [
    "## learning vector quantization"
   ]
  },
  {
   "cell_type": "code",
   "execution_count": 8,
   "metadata": {},
   "outputs": [
    {
     "data": {
      "text/plain": [
       "array([[1.],\n",
       "       [1.],\n",
       "       [0.],\n",
       "       [1.],\n",
       "       [1.],\n",
       "       [1.],\n",
       "       [0.],\n",
       "       [1.],\n",
       "       [0.],\n",
       "       [1.],\n",
       "       [1.],\n",
       "       [1.],\n",
       "       [1.],\n",
       "       [0.],\n",
       "       [1.],\n",
       "       [1.],\n",
       "       [1.],\n",
       "       [1.],\n",
       "       [1.],\n",
       "       [1.],\n",
       "       [1.],\n",
       "       [1.],\n",
       "       [0.],\n",
       "       [1.],\n",
       "       [1.],\n",
       "       [1.],\n",
       "       [1.],\n",
       "       [1.],\n",
       "       [1.],\n",
       "       [1.],\n",
       "       [1.],\n",
       "       [1.],\n",
       "       [1.],\n",
       "       [1.],\n",
       "       [1.],\n",
       "       [0.],\n",
       "       [1.],\n",
       "       [1.],\n",
       "       [0.],\n",
       "       [1.],\n",
       "       [1.],\n",
       "       [0.],\n",
       "       [0.],\n",
       "       [1.],\n",
       "       [1.],\n",
       "       [1.],\n",
       "       [1.],\n",
       "       [0.],\n",
       "       [1.],\n",
       "       [1.],\n",
       "       [1.],\n",
       "       [1.],\n",
       "       [1.],\n",
       "       [1.],\n",
       "       [1.],\n",
       "       [1.],\n",
       "       [1.],\n",
       "       [1.],\n",
       "       [1.],\n",
       "       [1.],\n",
       "       [1.],\n",
       "       [1.],\n",
       "       [1.],\n",
       "       [1.],\n",
       "       [1.],\n",
       "       [1.],\n",
       "       [1.],\n",
       "       [1.],\n",
       "       [1.],\n",
       "       [1.],\n",
       "       [1.],\n",
       "       [1.],\n",
       "       [1.],\n",
       "       [1.],\n",
       "       [1.],\n",
       "       [1.],\n",
       "       [1.],\n",
       "       [1.],\n",
       "       [1.],\n",
       "       [1.],\n",
       "       [1.],\n",
       "       [1.],\n",
       "       [1.],\n",
       "       [1.],\n",
       "       [1.],\n",
       "       [1.],\n",
       "       [1.],\n",
       "       [1.],\n",
       "       [1.],\n",
       "       [1.],\n",
       "       [1.],\n",
       "       [1.],\n",
       "       [1.],\n",
       "       [1.],\n",
       "       [1.],\n",
       "       [1.],\n",
       "       [1.],\n",
       "       [1.],\n",
       "       [1.],\n",
       "       [1.],\n",
       "       [2.],\n",
       "       [2.],\n",
       "       [2.],\n",
       "       [2.],\n",
       "       [2.],\n",
       "       [2.],\n",
       "       [2.],\n",
       "       [2.],\n",
       "       [2.],\n",
       "       [2.],\n",
       "       [2.],\n",
       "       [2.],\n",
       "       [2.],\n",
       "       [2.],\n",
       "       [2.],\n",
       "       [2.],\n",
       "       [2.],\n",
       "       [2.],\n",
       "       [2.],\n",
       "       [1.],\n",
       "       [2.],\n",
       "       [2.],\n",
       "       [2.],\n",
       "       [1.],\n",
       "       [2.],\n",
       "       [2.],\n",
       "       [1.],\n",
       "       [1.],\n",
       "       [2.],\n",
       "       [2.],\n",
       "       [2.],\n",
       "       [2.],\n",
       "       [2.],\n",
       "       [1.],\n",
       "       [2.],\n",
       "       [2.],\n",
       "       [2.],\n",
       "       [2.],\n",
       "       [1.],\n",
       "       [2.],\n",
       "       [2.],\n",
       "       [2.],\n",
       "       [2.],\n",
       "       [2.],\n",
       "       [2.],\n",
       "       [2.],\n",
       "       [1.],\n",
       "       [2.],\n",
       "       [2.],\n",
       "       [2.]])"
      ]
     },
     "execution_count": 8,
     "metadata": {},
     "output_type": "execute_result"
    }
   ],
   "source": [
    "import random\n",
    "def LVQ(D, T):\n",
    "    p = np.zeros((D.shape[1], 3))\n",
    "    for i in range(p.shape[1]):\n",
    "        p[:, i] = D.iloc[np.where(T == i)[0][0], :]\n",
    "    lamda = 0.01\n",
    "    for i in range(D.shape[0]):\n",
    "#     for z in range(5000):\n",
    "#         i = random.randint(a = 0, b = D.shape[0] -1)\n",
    "        idx = np.argmin([dis(p[:, i], D.iloc[i, :]) for i in range(p.shape[1])])\n",
    "#         print([dis(p[:, i], D.iloc[i, :]) for i in range(p.shape[1])])\n",
    "#         print(idx)\n",
    "#         print(p)\n",
    "#         print(D.iloc[i, :])\n",
    "#         print(dis(p[:, 0], D.iloc[i, :]))\n",
    "#         print(dis(p[:, 1], D.iloc[i, :]))\n",
    "#         print(dis(p[:, 2], D.iloc[i, :]))\n",
    "#         asda\n",
    "        # update p\n",
    "        if(idx == T[i]):\n",
    "            p[:, idx] = p[:, idx] + lamda * (D.iloc[i, :] - p[:, idx])\n",
    "        else:\n",
    "            p[:, idx] = p[:, idx] - lamda * (D.iloc[i, :] - p[:, idx])\n",
    "    return p\n",
    "        \n",
    "        \n",
    "p = LVQ(D, T)\n",
    "result = classify(D, p.transpose())\n",
    "result"
   ]
  },
  {
   "cell_type": "code",
   "execution_count": 9,
   "metadata": {},
   "outputs": [],
   "source": [
    "# Gussian mixure model"
   ]
  },
  {
   "cell_type": "code",
   "execution_count": 10,
   "metadata": {},
   "outputs": [],
   "source": [
    "x1 = np.random.normal(10, 0.2, 50)\n",
    "y1 = np.random.normal(3, 0.2, 50)\n",
    "\n",
    "x2 = np.random.normal(15, 0.2, 50)\n",
    "y2 = np.random.normal(4, 0.2, 50)\n",
    "\n",
    "xx = np.concatenate((x1, x2))\n",
    "yy = np.concatenate((y1, y2))\n",
    "\n",
    "X = np.stack((xx, yy), axis = 1)"
   ]
  },
  {
   "cell_type": "code",
   "execution_count": 11,
   "metadata": {},
   "outputs": [
    {
     "data": {
      "text/plain": [
       "<matplotlib.axes._subplots.AxesSubplot at 0x268c10d42b0>"
      ]
     },
     "execution_count": 11,
     "metadata": {},
     "output_type": "execute_result"
    },
    {
     "data": {
      "image/png": "[encoded data removed]",
      "text/plain": [
       "<Figure size 432x288 with 1 Axes>"
      ]
     },
     "metadata": {
      "needs_background": "light"
     },
     "output_type": "display_data"
    }
   ],
   "source": [
    "import seaborn as sns\n",
    "\n",
    "sns.scatterplot(x1, y1)\n",
    "sns.scatterplot(x2, y2)"
   ]
  },
  {
   "cell_type": "code",
   "execution_count": 12,
   "metadata": {},
   "outputs": [
    {
     "name": "stdout",
     "output_type": "stream",
     "text": [
      "us:[array([14.98680676,  4.01000992]), array([10.27035491,  3.07135757])]\n",
      "\n",
      " covs:[matrix([[0.03549582, 0.00109164],\n",
      "        [0.00109164, 0.03229728]]), matrix([[1.32644368, 0.24210143],\n",
      "        [0.24210143, 0.08098392]])]\n",
      "\n",
      " alphas:[0.4708518071691124, 0.5291481928308877]\n",
      "\n",
      "\n"
     ]
    },
    {
     "data": {
      "image/png": "[encoded data removed]",
      "text/plain": [
       "<Figure size 432x288 with 1 Axes>"
      ]
     },
     "metadata": {
      "needs_background": "light"
     },
     "output_type": "display_data"
    },
    {
     "name": "stdout",
     "output_type": "stream",
     "text": [
      "us:[array([14.98569923,  4.00617432]), array([9.99651034, 3.02047313])]\n",
      "\n",
      " covs:[matrix([[0.03668688, 0.00215651],\n",
      "        [0.00215651, 0.03262292]]), matrix([[0.03916699, 0.00219348],\n",
      "        [0.00219348, 0.0367301 ]])]\n",
      "\n",
      " alphas:[0.5, 0.5]\n",
      "\n",
      "\n"
     ]
    },
    {
     "data": {
      "image/png": "[encoded data removed]",
      "text/plain": [
       "<Figure size 432x288 with 1 Axes>"
      ]
     },
     "metadata": {
      "needs_background": "light"
     },
     "output_type": "display_data"
    },
    {
     "name": "stdout",
     "output_type": "stream",
     "text": [
      "us:[array([14.98569923,  4.00617432]), array([9.99651034, 3.02047313])]\n",
      "\n",
      " covs:[matrix([[0.03668688, 0.00215651],\n",
      "        [0.00215651, 0.03262292]]), matrix([[0.03916699, 0.00219348],\n",
      "        [0.00219348, 0.0367301 ]])]\n",
      "\n",
      " alphas:[0.5, 0.5]\n",
      "\n",
      "\n"
     ]
    },
    {
     "data": {
      "image/png": "[encoded data removed]",
      "text/plain": [
       "<Figure size 432x288 with 1 Axes>"
      ]
     },
     "metadata": {
      "needs_background": "light"
     },
     "output_type": "display_data"
    },
    {
     "name": "stdout",
     "output_type": "stream",
     "text": [
      "us:[array([14.98569923,  4.00617432]), array([9.99651034, 3.02047313])]\n",
      "\n",
      " covs:[matrix([[0.03668688, 0.00215651],\n",
      "        [0.00215651, 0.03262292]]), matrix([[0.03916699, 0.00219348],\n",
      "        [0.00219348, 0.0367301 ]])]\n",
      "\n",
      " alphas:[0.5, 0.5]\n",
      "\n",
      "\n"
     ]
    },
    {
     "data": {
      "image/png": "[encoded data removed]",
      "text/plain": [
       "<Figure size 432x288 with 1 Axes>"
      ]
     },
     "metadata": {
      "needs_background": "light"
     },
     "output_type": "display_data"
    },
    {
     "name": "stdout",
     "output_type": "stream",
     "text": [
      "us:[array([14.98569923,  4.00617432]), array([9.99651034, 3.02047313])]\n",
      "\n",
      " covs:[matrix([[0.03668688, 0.00215651],\n",
      "        [0.00215651, 0.03262292]]), matrix([[0.03916699, 0.00219348],\n",
      "        [0.00219348, 0.0367301 ]])]\n",
      "\n",
      " alphas:[0.5, 0.5]\n",
      "\n",
      "\n"
     ]
    },
    {
     "data": {
      "image/png": "[encoded data removed]",
      "text/plain": [
       "<Figure size 432x288 with 1 Axes>"
      ]
     },
     "metadata": {
      "needs_background": "light"
     },
     "output_type": "display_data"
    }
   ],
   "source": [
    "def guassian(x, mean, cov):\n",
    "    dim = mean.shape[0]\n",
    "    # cov的行列式为零时的措施\n",
    "    covdet = np.linalg.det(cov + np.eye(dim) * 0.001)\n",
    "    covinv = np.linalg.inv(cov + np.eye(dim) * 0.001)\n",
    "    xdiff = (x - mean).reshape((1,dim))\n",
    "    # 概率密度\n",
    "    prob = 1.0/(np.power(np.power(2*np.pi,dim)*np.abs(covdet),0.5))*\\\n",
    "           np.exp(-0.5*xdiff.dot(covinv).dot(xdiff.T))[0][0]\n",
    "    return prob\n",
    "\n",
    "def postProbability(x, alpha, us, covs):\n",
    "    dim = len(us)\n",
    "    p_sum = 0\n",
    "    for i in range(dim):\n",
    "        p_sum = p_sum + alpha[i] * guassian(x, us[i], covs[i])\n",
    "    ret = []\n",
    "    \n",
    "    for i in range(dim):\n",
    "        ret.append(alpha[i] * guassian(x, us[i], covs[i]) / p_sum)\n",
    "    return ret\n",
    "\n",
    "def EStep(X, us, covs, alpha):\n",
    "    dim = X.shape[0]\n",
    "    label = [0] * dim\n",
    "    ret = np.zeros((dim, len(us)))\n",
    "    for i in range(dim):\n",
    "        lps = postProbability(X[i, :], alpha, us, covs)\n",
    "        label[i] = np.argmax(lps)\n",
    "        ret[i, :] = lps\n",
    "    return ret\n",
    "\n",
    "def MStep(X, postP, K):\n",
    "    us = [[0] * X.shape[1]] * K\n",
    "    covs = [np.zeros((X.shape[1], X.shape[1]))] * K\n",
    "    alphas = [0] * K\n",
    "    for i in range(K):\n",
    "        # update means\n",
    "        us[i] = np.dot(X.transpose(), postP[:, i]) / np.sum(postP[:, i])\n",
    "        \n",
    "        # update covariance\n",
    "        tempSum = np.zeros((X.shape[1], X.shape[1]))\n",
    "        for j in range(X.shape[0]):\n",
    "            tempSum = tempSum + postP[j, i] * np.dot(np.mat(X[j, :] - us[i]).transpose(), np.mat(X[j, :] - us[i]))\n",
    "        covs[i] = tempSum/np.sum([postP[:, i]])\n",
    "        \n",
    "        # update weights\n",
    "        alphas[i] = np.sum([postP[:, i]]) / X.shape[0]\n",
    "    return us, covs, alphas\n",
    "        \n",
    "        \n",
    "def visualize(X, us, covs, alphas, K = 2):\n",
    "    dim = X.shape[0]\n",
    "    label = [0] * dim\n",
    "    for i in range(dim):\n",
    "        lps = postProbability(X[i, :], alphas, us, covs)\n",
    "        label[i] = np.argmax(lps)\n",
    "    \n",
    "    C = []\n",
    "    for i in range(K):\n",
    "        C.append(np.where(np.array(label) == i)[0])\n",
    "    \n",
    "    plt.figure()\n",
    "    for i in range(K):\n",
    "        sns.scatterplot(X[C[i], 0], X[C[i], 1])\n",
    "    plt.show()\n",
    "            \n",
    "        \n",
    "def GMM(X, K):\n",
    "    idxs = np.random.choice(range(X.shape[0]), size = K)\n",
    "    us = [X[idxs[i],:] for i in range(K)]\n",
    "    alphas = [1/K for i in range(K)]   \n",
    "    covs = []\n",
    "    for i in range(K):\n",
    "        cov = np.random.randn(K, K)\n",
    "        cov = cov + cov.transpose()\n",
    "        covs.append(cov)\n",
    "    \n",
    "    for i in range(50):\n",
    "        # E step\n",
    "        postP = EStep(X, us, covs, alphas)\n",
    "        \n",
    "        # M step\n",
    "        us, covs, alphas = MStep(X, postP, K)\n",
    "        \n",
    "        if i % 10 == 0:\n",
    "            print(\"us:{}\\n\\n covs:{}\\n\\n alphas:{}\\n\\n\".format(us, covs, alphas))\n",
    "            visualize(X, us, covs, alphas, K)\n",
    "    return us, covs, alphas\n",
    "        \n",
    "u, c, a = GMM(X, 2)"
   ]
  },
  {
   "cell_type": "code",
   "execution_count": 13,
   "metadata": {},
   "outputs": [
    {
     "name": "stderr",
     "output_type": "stream",
     "text": [
      "D:\\download\\Programming_language\\python\\Ana\\lib\\site-packages\\scipy\\stats\\stats.py:1713: FutureWarning: Using a non-tuple sequence for multidimensional indexing is deprecated; use `arr[tuple(seq)]` instead of `arr[seq]`. In the future this will be interpreted as an array index, `arr[np.array(seq)]`, which will result either in an error or a different result.\n",
      "  return np.add.reduce(sorted[indexer] * weights, axis=axis) / sumval\n"
     ]
    },
    {
     "data": {
      "text/plain": [
       "<seaborn.axisgrid.JointGrid at 0x268c13d32e8>"
      ]
     },
     "execution_count": 13,
     "metadata": {},
     "output_type": "execute_result"
    },
    {
     "data": {
      "image/png": "[encoded data removed]",
      "text/plain": [
       "<Figure size 432x432 with 3 Axes>"
      ]
     },
     "metadata": {
      "needs_background": "light"
     },
     "output_type": "display_data"
    }
   ],
   "source": [
    "sns.jointplot(x = xx, y = yy, kind = \"kde\")"
   ]
  },
  {
   "cell_type": "markdown",
   "metadata": {},
   "source": [
    "## DBSCAN"
   ]
  },
  {
   "cell_type": "code",
   "execution_count": 14,
   "metadata": {},
   "outputs": [
    {
     "data": {
      "text/plain": [
       "<matplotlib.axes._subplots.AxesSubplot at 0x268c2700eb8>"
      ]
     },
     "execution_count": 14,
     "metadata": {},
     "output_type": "execute_result"
    },
    {
     "data": {
      "image/png": "[encoded data removed]",
      "text/plain": [
       "<Figure size 432x288 with 1 Axes>"
      ]
     },
     "metadata": {
      "needs_background": "light"
     },
     "output_type": "display_data"
    }
   ],
   "source": [
    "sns.scatterplot(X[:, 0], X[:, 1])"
   ]
  },
  {
   "cell_type": "code",
   "execution_count": null,
   "metadata": {},
   "outputs": [],
   "source": []
  },
  {
   "cell_type": "markdown",
   "metadata": {},
   "source": [
    "## AGNES"
   ]
  },
  {
   "cell_type": "code",
   "execution_count": 15,
   "metadata": {},
   "outputs": [],
   "source": [
    "import math\n",
    "\n",
    "MAX = 10000\n",
    "\n",
    "def dis(c1, c2, mode = 'min'):\n",
    "    ret = 0\n",
    "    if mode == 'min':\n",
    "        dist_min = MAX\n",
    "        for cc1 in c1:\n",
    "            for cc2 in c2:\n",
    "                distance = sum(np.square(cc1 - cc2))\n",
    "                if distance < dist_min:\n",
    "                    dist_min = distance\n",
    "        ret = dist_min\n",
    "    elif mode == 'max':\n",
    "        dist_max = 0\n",
    "        for cc1 in c1:\n",
    "            for cc2 in c2:\n",
    "                distance = sum(np.square(cc1 - cc2))\n",
    "                if distance > dist_max:\n",
    "                    dist_max = distance\n",
    "        ret = dist_max\n",
    "    elif mode == 'avg':\n",
    "        distance = 0\n",
    "        for cc1 in c1:\n",
    "            for cc2 in c2:\n",
    "                distance = distance + sum(np.square(cc1 - cc2))\n",
    "        ret = distance / (c1.shape[0] * c2.shape[0])\n",
    "    return ret\n",
    "\n",
    "def initialize(X):\n",
    "    dim = len(X)\n",
    "    distMat = np.zeros((dim, dim))\n",
    "    for i in range(dim):\n",
    "        for j in range(dim):\n",
    "            distMat[i, j] = dis(X[i], X[j])\n",
    "            distMat[j, i]= distMat[i, j]\n",
    "    for i in range(dim):\n",
    "        distMat[i, i] = MAX\n",
    "    return distMat\n",
    "\n",
    "def AGNES(X, K):\n",
    "    C = [[X[i, :]] for i in range(X.shape[0])]\n",
    "    classNum = X.shape[0]\n",
    "    distMat = initialize(C)\n",
    "    while classNum > K:\n",
    "        idx = np.where(distMat == distMat.min())\n",
    "        C[idx[0][0]].extend(C[idx[1][0]])\n",
    "        C.pop(idx[1][0])\n",
    "        \n",
    "        distMat = np.delete(distMat, (idx[1][0]), axis=0)\n",
    "        distMat = np.delete(distMat, (idx[1][0]), axis=1)\n",
    "        classNum = classNum - 1\n",
    "        \n",
    "        # update distance matrix\n",
    "        for i in range(classNum):\n",
    "            distMat[idx[0][0], i] = dis(C[idx[0][0]], C[i])\n",
    "            distMat[i, idx[0][0]] = distMat[idx[0][0], i]\n",
    "        distMat[idx[0][0], idx[0][0]] = MAX\n",
    "    return C\n",
    "        \n",
    "C = AGNES(X, 2)"
   ]
  },
  {
   "cell_type": "code",
   "execution_count": 16,
   "metadata": {},
   "outputs": [
    {
     "data": {
      "text/plain": [
       "<matplotlib.axes._subplots.AxesSubplot at 0x268c278ce80>"
      ]
     },
     "execution_count": 16,
     "metadata": {},
     "output_type": "execute_result"
    },
    {
     "data": {
      "image/png": "[encoded data removed]",
      "text/plain": [
       "<Figure size 432x288 with 1 Axes>"
      ]
     },
     "metadata": {
      "needs_background": "light"
     },
     "output_type": "display_data"
    }
   ],
   "source": [
    "c1 = np.array(C[0])\n",
    "c2 = np.array(C[1])\n",
    "\n",
    "sns.scatterplot(c1[:, 0], c1[:, 1])\n",
    "sns.scatterplot(c2[:, 0], c2[:, 1])"
   ]
  }
 ],
 "metadata": {
  "kernelspec": {
   "display_name": "Python 3",
   "language": "python",
   "name": "python3"
  },
  "language_info": {
   "codemirror_mode": {
    "name": "ipython",
    "version": 3
   },
   "file_extension": ".py",
   "mimetype": "text/x-python",
   "name": "python",
   "nbconvert_exporter": "python",
   "pygments_lexer": "ipython3",
   "version": "3.7.0"
  }
 },
 "nbformat": 4,
 "nbformat_minor": 2
}
