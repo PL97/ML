{
 "cells": [
  {
   "cell_type": "code",
   "execution_count": 1,
   "metadata": {},
   "outputs": [],
   "source": [
    "import pandas as pd\n",
    "import numpy as np\n",
    "from sklearn import datasets\n",
    "import matplotlib.pyplot as plt"
   ]
  },
  {
   "cell_type": "code",
   "execution_count": 2,
   "metadata": {},
   "outputs": [],
   "source": [
    "x1 = np.random.normal(10, 1, 50)\n",
    "y1 = np.random.normal(3, 1, 50)\n",
    "\n",
    "x2 = np.random.normal(15, 1, 50)\n",
    "y2 = np.random.normal(4, 1, 50)\n",
    "\n",
    "xx = np.concatenate((x1, x2))\n",
    "yy = np.concatenate((y1, y2))\n",
    "\n",
    "X = np.stack((xx, yy), axis = 1)"
   ]
  },
  {
   "cell_type": "code",
   "execution_count": 3,
   "metadata": {},
   "outputs": [
    {
     "data": {
      "text/plain": [
       "<matplotlib.axes._subplots.AxesSubplot at 0x1f73a3287f0>"
      ]
     },
     "execution_count": 3,
     "metadata": {},
     "output_type": "execute_result"
    },
    {
     "data": {
      "image/png": "[encoded data removed]",
      "text/plain": [
       "<Figure size 432x288 with 1 Axes>"
      ]
     },
     "metadata": {
      "needs_background": "light"
     },
     "output_type": "display_data"
    }
   ],
   "source": [
    "import seaborn as sns\n",
    "\n",
    "sns.scatterplot(x1, y1)\n",
    "sns.scatterplot(x2, y2)"
   ]
  },
  {
   "cell_type": "code",
   "execution_count": 4,
   "metadata": {},
   "outputs": [],
   "source": [
    "def neighbors(x, X, r, curX):\n",
    "    dist = np.sqrt(np.sum(np.square(X-x), axis = 1))\n",
    "    n = np.where(dist < r)[0]\n",
    "    return set(np.array(curX)[n])\n",
    "\n",
    "def update(curX, legacylist):\n",
    "    return list(set(curX).difference(legacylist))\n",
    "\n",
    "def DBSCAN(X, r, MinPts):\n",
    "    C = set()\n",
    "    # find all cluster central\n",
    "    curX = list(range(X.shape[0]))\n",
    "    for i in range(X.shape[0]):\n",
    "        n = neighbors(X[i, :], X, r, curX)\n",
    "        if(len(n) > MinPts):\n",
    "            C.add(i)\n",
    "    \n",
    "    clusters = []\n",
    "    while len(curX) > 0 and len(C) > 0:\n",
    "        # select one central from set\n",
    "        c = C.pop()\n",
    "        centers = {c}\n",
    "        cluster = set()\n",
    "        while len(centers) != 0:\n",
    "            currentCenter = centers.pop()\n",
    "            C.discard(currentCenter)\n",
    "            n = neighbors(X[currentCenter, :], X[curX, :], r, curX)\n",
    "            curX = update(curX, n)\n",
    "            cluster.update(set(n))\n",
    "            for cc in C:\n",
    "                if cc != c and (cc in n):\n",
    "                    centers.add(cc)\n",
    "        clusters.append(set(cluster))\n",
    "    return clusters\n",
    "\n",
    "c = DBSCAN(X, 1, 10)"
   ]
  },
  {
   "cell_type": "code",
   "execution_count": 5,
   "metadata": {},
   "outputs": [
    {
     "data": {
      "image/png": "[encoded data removed]",
      "text/plain": [
       "<Figure size 432x288 with 1 Axes>"
      ]
     },
     "metadata": {
      "needs_background": "light"
     },
     "output_type": "display_data"
    }
   ],
   "source": [
    "for i in range(len(c)):\n",
    "    sns.scatterplot(X[list(c[i]), 0], X[list(c[i]), 1])"
   ]
  },
  {
   "cell_type": "code",
   "execution_count": null,
   "metadata": {},
   "outputs": [],
   "source": []
  }
 ],
 "metadata": {
  "kernelspec": {
   "display_name": "Python 3",
   "language": "python",
   "name": "python3"
  },
  "language_info": {
   "codemirror_mode": {
    "name": "ipython",
    "version": 3
   },
   "file_extension": ".py",
   "mimetype": "text/x-python",
   "name": "python",
   "nbconvert_exporter": "python",
   "pygments_lexer": "ipython3",
   "version": "3.7.0"
  }
 },
 "nbformat": 4,
 "nbformat_minor": 2
}
