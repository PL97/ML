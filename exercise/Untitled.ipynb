{
 "cells": [
  {
   "cell_type": "code",
   "execution_count": 43,
   "metadata": {},
   "outputs": [],
   "source": [
    "import pandas as pd\n",
    "import numpy as np\n",
    "from sklearn import datasets\n",
    "from sklearn.model_selection import train_test_split\n",
    "from collections import Counter"
   ]
  },
  {
   "cell_type": "code",
   "execution_count": 4,
   "metadata": {},
   "outputs": [],
   "source": [
    "Iris = datasets.load_iris()"
   ]
  },
  {
   "cell_type": "code",
   "execution_count": 16,
   "metadata": {},
   "outputs": [],
   "source": [
    "X = np.array(Iris.data)\n",
    "y = Iris.target\n",
    "# X.columns = Iris.feature_names"
   ]
  },
  {
   "cell_type": "code",
   "execution_count": 17,
   "metadata": {},
   "outputs": [],
   "source": [
    "X_train, X_test, y_train, y_test = train_test_split(X, y, test_size=0.33, random_state=42)"
   ]
  },
  {
   "cell_type": "code",
   "execution_count": 66,
   "metadata": {},
   "outputs": [],
   "source": [
    "def neighbors(X, x, n):\n",
    "    dis = {i:np.sum(np.square(X[i, :] - x)) for i in range(X.shape[0])}\n",
    "    dis_sorted = [k for k, v in sorted(dis.items(), key=lambda item: item[1])]\n",
    "    return dis_sorted[1:n+1]\n",
    "\n",
    "def getlabels(y_train, idxs):\n",
    "    labels = y_train[idxs]\n",
    "    return Counter(labels).most_common(1)[0][0]\n",
    "    \n",
    "\n",
    "def knn(X_train, X_test, y_train, y_test, n = 4):\n",
    "    labels = [0] * X_test.shape[0]\n",
    "    for i in range(X_test.shape[0]):\n",
    "        labels[i] = getlabels(y_train, neighbors(X_train, X_test[i, :], n))\n",
    "    return labels\n",
    "\n",
    "pred_y = knn(X_train, X_test, y_train, y_test)"
   ]
  },
  {
   "cell_type": "code",
   "execution_count": 74,
   "metadata": {},
   "outputs": [
    {
     "name": "stdout",
     "output_type": "stream",
     "text": [
      "0.98\n"
     ]
    }
   ],
   "source": [
    "test = np.where(np.array(pred_y == y_test) == True)[0]\n",
    "\n",
    "print(len(test)/y_test.shape[0])"
   ]
  }
 ],
 "metadata": {
  "kernelspec": {
   "display_name": "Python 3",
   "language": "python",
   "name": "python3"
  },
  "language_info": {
   "codemirror_mode": {
    "name": "ipython",
    "version": 3
   },
   "file_extension": ".py",
   "mimetype": "text/x-python",
   "name": "python",
   "nbconvert_exporter": "python",
   "pygments_lexer": "ipython3",
   "version": "3.7.0"
  }
 },
 "nbformat": 4,
 "nbformat_minor": 2
}
